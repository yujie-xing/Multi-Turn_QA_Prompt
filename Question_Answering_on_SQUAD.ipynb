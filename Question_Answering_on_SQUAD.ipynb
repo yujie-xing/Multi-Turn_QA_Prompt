{
 "cells": [
  {
   "cell_type": "code",
   "execution_count": null,
   "metadata": {
    "id": "MOsHUjgdIrIW"
   },
   "outputs": [],
   "source": [
    "#! pip install datasets transformers"
   ]
  },
  {
   "cell_type": "markdown",
   "metadata": {
    "id": "-EO4CubXVOJM"
   },
   "source": [
    "If you're opening this notebook locally, make sure your environment has an install from the last version of those libraries.\n",
    "\n",
    "To be able to share your model with the community and generate results like the one shown in the picture below via the inference API, there are a few more steps to follow.\n",
    "\n",
    "First you have to store your authentication token from the Hugging Face website (sign up [here](https://huggingface.co/join) if you haven't already!) then execute the following cell and input your username and password:"
   ]
  },
  {
   "cell_type": "markdown",
   "metadata": {
    "id": "xPfEcH4NVOJO"
   },
   "source": [
    "Make sure your version of Transformers is at least 4.11.0 since the functionality was introduced in that version:"
   ]
  },
  {
   "cell_type": "code",
   "execution_count": 3,
   "metadata": {
    "id": "gPDk-liTVOJO"
   },
   "outputs": [
    {
     "name": "stdout",
     "output_type": "stream",
     "text": [
      "4.23.0.dev0\n"
     ]
    }
   ],
   "source": [
    "import transformers\n",
    "\n",
    "print(transformers.__version__)"
   ]
  },
  {
   "cell_type": "markdown",
   "metadata": {
    "id": "HFASsisvIrIb"
   },
   "source": [
    "You can find a script version of this notebook to fine-tune your model in a distributed fashion using multiple GPUs or TPUs [here](https://github.com/huggingface/transformers/tree/master/examples/question-answering)."
   ]
  },
  {
   "cell_type": "markdown",
   "metadata": {
    "id": "rEJBSTyZIrIb"
   },
   "source": [
    "# Fine-tuning a model on a question-answering task"
   ]
  },
  {
   "cell_type": "markdown",
   "metadata": {
    "id": "4XNf7vD1VOJQ"
   },
   "source": [
    "In this notebook, we will see how to fine-tune one of the [🤗 Transformers](https://github.com/huggingface/transformers) model to a question answering task, which is the task of extracting the answer to a question from a given context. We will see how to easily load a dataset for these kinds of tasks and use the `Trainer` API to fine-tune a model on it.\n",
    "\n",
    "![Widget inference representing the QA task](https://github.com/huggingface/notebooks/blob/main/examples/images/question_answering.png?raw=1)\n",
    "\n",
    "**Note:** This notebook finetunes models that answer question by taking a substring of a context, not by generating new text."
   ]
  },
  {
   "cell_type": "markdown",
   "metadata": {
    "id": "4RRkXuteIrIh"
   },
   "source": [
    "This notebook is built to run on any question answering task with the same format as SQUAD (version 1 or 2), with any model checkpoint from the [Model Hub](https://huggingface.co/models) as long as that model has a version with a token classification head and a fast tokenizer (check on [this table](https://huggingface.co/transformers/index.html#bigtable) if this is the case). It might just need some small adjustments if you decide to use a different dataset than the one used here. Depending on you model and the GPU you are using, you might need to adjust the batch size to avoid out-of-memory errors. Set those three parameters, then the rest of the notebook should run smoothly:"
   ]
  },
  {
   "cell_type": "code",
   "execution_count": 4,
   "metadata": {
    "id": "zVvslsfMIrIh"
   },
   "outputs": [],
   "source": [
    "model_checkpoint = \"gpt2\"\n",
    "# model_checkpoint = \"distilbert-base-uncased\"\n",
    "batch_size = 16"
   ]
  },
  {
   "cell_type": "markdown",
   "metadata": {
    "id": "whPRbBNbIrIl"
   },
   "source": [
    "## Loading the dataset"
   ]
  },
  {
   "cell_type": "code",
   "execution_count": 5,
   "metadata": {
    "id": "IreSlFmlIrIm"
   },
   "outputs": [],
   "source": [
    "from data import load_train_dev_data\n",
    "\n",
    "train_dataset_path = \"dataset/coqa-train-prompted.json\"\n",
    "dev_dataset_path = \"dataset/coqa-dev-prompted.json\""
   ]
  },
  {
   "cell_type": "markdown",
   "metadata": {
    "id": "CKx2zKs5IrIq"
   },
   "source": [
    "For our example here, we'll use the [SQUAD dataset](https://rajpurkar.github.io/SQuAD-explorer/). The notebook should work with any question answering dataset provided by the 🤗 Datasets library. If you're using your own dataset defined from a JSON or csv file (see the [Datasets documentation](https://huggingface.co/docs/datasets/loading_datasets.html#from-local-files) on how to load them), it might need some adjustments in the names of the columns used."
   ]
  },
  {
   "cell_type": "code",
   "execution_count": 6,
   "metadata": {
    "colab": {
     "base_uri": "https://localhost:8080/",
     "height": 270,
     "referenced_widgets": [
      "69caab03d6264fef9fc5649bffff5e20",
      "3f74532faa86412293d90d3952f38c4a",
      "50615aa59c7247c4804ca5cbc7945bd7",
      "fe962391292a413ca55dc932c4279fa7",
      "299f4b4c07654e53a25f8192bd1d7bbd",
      "ad04ed1038154081bbb0c1444784dcc2",
      "7c667ad22b5740d5a6319f1b1e3a8097",
      "46c2b043c0f84806978784a45a4e203b",
      "80e2943be35f46eeb24c8ab13faa6578",
      "de5956b5008d4fdba807bae57509c393",
      "931db1f7a42f4b46b7ff8c2e1262b994",
      "6c1db72efff5476e842c1386fadbbdba",
      "ccd2f37647c547abb4c719b75a26f2de",
      "d30a66df5c0145e79693e09789d96b81",
      "5fa26fc336274073abbd1d550542ee33",
      "2b34de08115d49d285def9269a53f484",
      "d426be871b424affb455aeb7db5e822e",
      "160bf88485f44f5cb6eaeecba5e0901f",
      "745c0d47d672477b9bb0dae77b926364",
      "d22ab78269cd4ccfbcf70c707057c31b",
      "d298eb19eeff453cba51c2804629d3f4",
      "a7204ade36314c86907c562e0a2158b8",
      "e35d42b2d352498ca3fc8530393786b2",
      "75103f83538d44abada79b51a1cec09e",
      "f6253931d90543e9b5fd0bb2d615f73a",
      "051aa783ff9e47e28d1f9584043815f5",
      "0984b2a14115454bbb009df71c1cf36f",
      "8ab9dfce29854049912178941ef1b289",
      "c9de740e007141958545e269372780a4",
      "cbea68b25d6d4ba09b2ce0f27b1726d5",
      "5781fc45cf8d486cb06ed68853b2c644",
      "d2a92143a08a4951b55bab9bc0a6d0d3",
      "a14c3e40e5254d61ba146f6ec88eae25",
      "c4ffe6f624ce4e978a0d9b864544941a",
      "1aca01c1d8c940dfadd3e7144bb35718",
      "9fbbaae50e6743f2aa19342152398186",
      "fea27ca6c9504fc896181bc1ff5730e5",
      "940d00556cb849b3a689d56e274041c2",
      "5cdf9ed939fb42d4bf77301c80b8afca",
      "94b39ccfef0b4b08bf2fb61bb0a657c1",
      "9a55087c85b74ea08b3e952ac1d73cbe",
      "2361ab124daf47cc885ff61f2899b2af",
      "1a65887eb37747ddb75dc4a40f7285f2",
      "3c946e2260704e6c98593136bd32d921",
      "50d325cdb9844f62a9ecc98e768cb5af",
      "aa781f0cfe454e9da5b53b93e9baabd8",
      "6bb68d3887ef43809eb23feb467f9723",
      "7e29a8b952cf4f4ea42833c8bf55342f",
      "dd5997d01d8947e4b1c211433969b89b",
      "2ace4dc78e2f4f1492a181bcd63304e7",
      "bbee008c2791443d8610371d1f16b62b",
      "31b1c8a2e3334b72b45b083688c1a20c",
      "7fb7c36adc624f7dbbcb4a831c1e4f63",
      "0b7c8f1939074794b3d9221244b1344d",
      "a71908883b064e1fbdddb547a8c41743",
      "2f5223f26c8541fc87e91d2205c39995"
     ]
    },
    "id": "s_AY1ATSIrIq",
    "outputId": "fd0578d1-8895-443d-b56f-5908de9f1b6b"
   },
   "outputs": [],
   "source": [
    "train_dataset = load_train_dev_data(train_dataset_path)\n",
    "dev_dataset = load_train_dev_data(dev_dataset_path)"
   ]
  },
  {
   "cell_type": "markdown",
   "metadata": {
    "id": "RzfPtOMoIrIu"
   },
   "source": [
    "The `datasets` object itself is [`DatasetDict`](https://huggingface.co/docs/datasets/package_reference/main_classes.html#datasetdict), which contains one key for the training, validation and test set."
   ]
  },
  {
   "cell_type": "code",
   "execution_count": 7,
   "metadata": {
    "id": "GWiVUF0jIrIv",
    "outputId": "35e3ea43-f397-4a54-c90c-f2cf8d36873e"
   },
   "outputs": [
    {
     "data": {
      "text/plain": [
       "dict_keys(['id', 'context', 'turn_id', 'question', 'answer', 'answer_span', 'human_answer', 'original_answer', 'prompt_positions'])"
      ]
     },
     "execution_count": 7,
     "metadata": {},
     "output_type": "execute_result"
    }
   ],
   "source": [
    "train_dataset[0].keys()"
   ]
  },
  {
   "cell_type": "markdown",
   "metadata": {
    "id": "n9qywopnIrJH"
   },
   "source": [
    "## Preprocessing the training data"
   ]
  },
  {
   "cell_type": "markdown",
   "metadata": {
    "id": "YVx71GdAIrJH"
   },
   "source": [
    "Before we can feed those texts to our model, we need to preprocess them. This is done by a 🤗 Transformers `Tokenizer` which will (as the name indicates) tokenize the inputs (including converting the tokens to their corresponding IDs in the pretrained vocabulary) and put it in a format the model expects, as well as generate the other inputs that model requires.\n",
    "\n",
    "To do all of this, we instantiate our tokenizer with the `AutoTokenizer.from_pretrained` method, which will ensure:\n",
    "\n",
    "- we get a tokenizer that corresponds to the model architecture we want to use,\n",
    "- we download the vocabulary used when pretraining this specific checkpoint.\n",
    "\n",
    "That vocabulary will be cached, so it's not downloaded again the next time we run the cell."
   ]
  },
  {
   "cell_type": "code",
   "execution_count": 81,
   "metadata": {
    "id": "eXNLu_-nIrJI"
   },
   "outputs": [
    {
     "data": {
      "text/plain": [
       "50257"
      ]
     },
     "execution_count": 81,
     "metadata": {},
     "output_type": "execute_result"
    }
   ],
   "source": [
    "from transformers import AutoTokenizer\n",
    "    \n",
    "tokenizer = AutoTokenizer.from_pretrained(model_checkpoint)\n",
    "len(tokenizer.get_vocab())"
   ]
  },
  {
   "cell_type": "code",
   "execution_count": 86,
   "metadata": {},
   "outputs": [
    {
     "name": "stdout",
     "output_type": "stream",
     "text": [
      "50258\n",
      "50257\n"
     ]
    }
   ],
   "source": [
    "special_tokens_dict = {'pad_token': '<|paddingtokencustomized|>'}\n",
    "tokenizer.add_special_tokens(special_tokens_dict)\n",
    "print(len(tokenizer.get_vocab()))\n",
    "print(tokenizer.pad_token_id)"
   ]
  },
  {
   "cell_type": "markdown",
   "metadata": {
    "id": "Vl6IidfdIrJK"
   },
   "source": [
    "The following assertion ensures that our tokenizer is a fast tokenizers (backed by Rust) from the 🤗 Tokenizers library. Those fast tokenizers are available for almost all models, and we will need some of the special features they have for our preprocessing."
   ]
  },
  {
   "cell_type": "code",
   "execution_count": 87,
   "metadata": {
    "id": "_pj4nSdnVOJW"
   },
   "outputs": [],
   "source": [
    "import transformers\n",
    "assert isinstance(tokenizer, transformers.PreTrainedTokenizerFast)"
   ]
  },
  {
   "cell_type": "markdown",
   "metadata": {
    "id": "UsFt8_dFVOJW"
   },
   "source": [
    "You can check which type of models have a fast tokenizer available and which don't on the [big table of models](https://huggingface.co/transformers/index.html#bigtable)."
   ]
  },
  {
   "cell_type": "markdown",
   "metadata": {
    "id": "rowT4iCLIrJK"
   },
   "source": [
    "You can directly call this tokenizer on two sentences (one for the answer, one for the context):"
   ]
  },
  {
   "cell_type": "code",
   "execution_count": 88,
   "metadata": {
    "id": "a5hBlsrHIrJL",
    "outputId": "acdaa98a-a8cd-4a20-89b8-cc26437bbe90"
   },
   "outputs": [
    {
     "data": {
      "text/plain": [
       "{'input_ids': [2061, 318, 534, 1438, 30, 3666, 1438, 318, 24286, 391, 13], 'attention_mask': [1, 1, 1, 1, 1, 1, 1, 1, 1, 1, 1]}"
      ]
     },
     "execution_count": 88,
     "metadata": {},
     "output_type": "execute_result"
    }
   ],
   "source": [
    "tokenizer(\"What is your name?\", \"My name is Sylvain.\")"
   ]
  },
  {
   "cell_type": "markdown",
   "metadata": {
    "id": "veU0W3A2VOJW"
   },
   "source": [
    "Depending on the model you selected, you will see different keys in the dictionary returned by the cell above. They don't matter much for what we're doing here (just know they are required by the model we will instantiate later), you can learn more about them in [this tutorial](https://huggingface.co/transformers/preprocessing.html) if you're interested.\n",
    "\n",
    "Now one specific thing for the preprocessing in question answering is how to deal with very long documents. We usually truncate them in other tasks, when they are longer than the model maximum sentence length, but here, removing part of the the context might result in losing the answer we are looking for. To deal with this, we will allow one (long) example in our dataset to give several input features, each of length shorter than the maximum length of the model (or the one we set as a hyper-parameter). Also, just in case the answer lies at the point we split a long context, we allow some overlap between the features we generate controlled by the hyper-parameter `doc_stride`:"
   ]
  },
  {
   "cell_type": "code",
   "execution_count": 89,
   "metadata": {
    "id": "HUXPKcXvVOJW"
   },
   "outputs": [],
   "source": [
    "max_length = 1020 # The maximum length of a feature (question and context)\n",
    "doc_stride = 128 # The authorized overlap between two part of the context when splitting it is needed."
   ]
  },
  {
   "cell_type": "markdown",
   "metadata": {
    "id": "S8OxY4dkVOJX"
   },
   "source": [
    "Let's find one long example in our dataset:"
   ]
  },
  {
   "cell_type": "code",
   "execution_count": 90,
   "metadata": {
    "id": "SjUq7FGSVOJX"
   },
   "outputs": [
    {
     "name": "stderr",
     "output_type": "stream",
     "text": [
      "Token indices sequence length is longer than the specified maximum sequence length for this model (1028 > 1024). Running this sequence through the model will result in indexing errors\n"
     ]
    },
    {
     "name": "stdout",
     "output_type": "stream",
     "text": [
      "2409\n"
     ]
    }
   ],
   "source": [
    "for i, example in enumerate(train_dataset):\n",
    "    if len(tokenizer(example[\"question\"], example[\"context\"])[\"input_ids\"]) > max_length:\n",
    "        break\n",
    "print(i)\n",
    "example = train_dataset[i]"
   ]
  },
  {
   "cell_type": "markdown",
   "metadata": {
    "id": "F4cglgxMVOJX"
   },
   "source": [
    "Without any truncation, we get the following length for the input IDs:"
   ]
  },
  {
   "cell_type": "code",
   "execution_count": 91,
   "metadata": {
    "id": "Ip2wG3hqVOJX",
    "outputId": "462d6a8a-76d3-4a68-a71c-8701819b9b9f"
   },
   "outputs": [
    {
     "data": {
      "text/plain": [
       "1028"
      ]
     },
     "execution_count": 91,
     "metadata": {},
     "output_type": "execute_result"
    }
   ],
   "source": [
    "len(tokenizer(example[\"question\"], example[\"context\"])[\"input_ids\"])"
   ]
  },
  {
   "cell_type": "markdown",
   "metadata": {
    "id": "S4fh6yT9VOJX"
   },
   "source": [
    "Now, if we just truncate, we will lose information (and possibly the answer to our question):"
   ]
  },
  {
   "cell_type": "code",
   "execution_count": 92,
   "metadata": {
    "id": "-o2qFQXwVOJX",
    "outputId": "bd9a4974-ed49-4a8d-9aa0-e205b869c619"
   },
   "outputs": [
    {
     "data": {
      "text/plain": [
       "1020"
      ]
     },
     "execution_count": 92,
     "metadata": {},
     "output_type": "execute_result"
    }
   ],
   "source": [
    "len(tokenizer(example[\"question\"], example[\"context\"], max_length=max_length, truncation=\"only_second\")[\"input_ids\"])"
   ]
  },
  {
   "cell_type": "markdown",
   "metadata": {
    "id": "nRBchDwcVOJY"
   },
   "source": [
    "Note that we never want to truncate the question, only the context, else the `only_second` truncation picked. Now, our tokenizer can automatically return us a list of features capped by a certain maximum length, with the overlap we talked above, we just have to tell it with `return_overflowing_tokens=True` and by passing the stride:"
   ]
  },
  {
   "cell_type": "code",
   "execution_count": 95,
   "metadata": {
    "id": "T58ltQgYVOJY"
   },
   "outputs": [],
   "source": [
    "tokenized_example = tokenizer(\n",
    "    example[\"question\"],\n",
    "    example[\"context\"],\n",
    "    max_length=max_length,\n",
    "    truncation=\"only_second\",\n",
    "    return_overflowing_tokens=True,\n",
    "    stride=doc_stride\n",
    ")"
   ]
  },
  {
   "cell_type": "markdown",
   "metadata": {
    "id": "7KAvtf42VOJY"
   },
   "source": [
    "Now we don't have one list of `input_ids`, but several: "
   ]
  },
  {
   "cell_type": "code",
   "execution_count": 96,
   "metadata": {
    "id": "asAMFEU5VOJY",
    "outputId": "60b528be-6b9f-49d4-e14c-59289278ce90"
   },
   "outputs": [
    {
     "data": {
      "text/plain": [
       "[1020, 145]"
      ]
     },
     "execution_count": 96,
     "metadata": {},
     "output_type": "execute_result"
    }
   ],
   "source": [
    "[len(x) for x in tokenized_example[\"input_ids\"]]"
   ]
  },
  {
   "cell_type": "markdown",
   "metadata": {
    "id": "g3HFH5e3VOJY"
   },
   "source": [
    "And if we decode them, we can see the overlap:"
   ]
  },
  {
   "cell_type": "code",
   "execution_count": 98,
   "metadata": {
    "id": "wQv7vuikVOJY",
    "outputId": "1cec6d4d-3564-4830-9ff7-73c7fb24689e"
   },
   "outputs": [
    {
     "name": "stdout",
     "output_type": "stream",
     "text": [
      "What's he going to paint some day?Old Behrman was a painter who lived on the ground floor of the apartment building. For years, he had always been planning to paint a work of art, but had never yet begun it. He earned a little money by serving as a model to artists who could not pay for a professional model. He was a fierce, little, old man who protected the two young women in the studio apartment above him. \n",
      "\n",
      "Sue found Behrman in his room. In one area was a blank canvas that had been waiting twenty-five years for the first line of paint. Sue told him about Johnsy and how she feared that her friend would float away like a leaf on the old ivy vine climbing hopelessly up the outside block wall. \n",
      "\n",
      "<1> Old Behrman was angered at such an idea.  <1>\"Are there people in the world with the foolishness to die because leaves drop off a vine? Why do you let that silly business come in her brain?\" \n",
      "\n",
      "\"She is very sick and weak,\" said Sue, \"and the disease has left her mind full of strange ideas.\" \n",
      "\n",
      "<2> \"This is not any place in which one so good as Miss Johnsy shall lie sick,\" yelled Behrman. <2> \"Some day I will paint a masterpiece, and we shall all go away.\" \n",
      "\n",
      "Johnsy was sleeping when they went upstairs. Sue pulled the shade down to cover the window. She and Behrman went into the other room. They looked out a window fearfully at the ivy vine. Then they looked at each other without speaking. A cold rain was falling, mixed with snow. \n",
      "\n",
      "The next morning, Sue awoke after an hour's sleep. She found Johnsy with wide-open eyes staring at the covered window. \"Pull up the shade; I want to see,\" she ordered, quietly. Sue obeyed. \n",
      "\n",
      "After the beating rain and fierce wind that blew through the night, there yet stood against the wall one ivy leaf. It was the last one on the vine. It was still dark green at the center. But its edges were color1ed with the yellow. It hung bravely from the branch about seven meters above the ground. \n",
      "\n",
      "\"It is the last one,\" said Johnsy. \"I thought it would surely fail during the night. I heard the wind. It will fall today and I shall die at the same time.\" \n",
      "\n",
      "\"Dear, dear!\" said Sue, leaning her worn face down toward the bed. \"Think of me, if you won't think of yourself. What would I do?\" But Johnsy did not answer. \n",
      "\n",
      "The next morning, when it was light, Johnsy demanded that the window shade be raised. The ivy leaf was still there. Johnsy lay for a long time, looking at it. And then she called to Sue, who was preparing chicken soup. \n",
      "\n",
      "\"I've been a bad girl,\" said Johnsy. \"Something has made that last leaf stay there to show me how bad I was. It is wrong to want to die. You may bring me a little soup now.\" \n",
      "\n",
      "An hour later she said: \"someday I hope to paint the Bay of Naples.\" \n",
      "\n",
      "Later in the day, the doctor came, and Sue talked to him in the hallway. \"Even chances. With good care, you'll win,\" said the doctor. \"And now I must see another case I have in your building. Behrman, whose name is some kind of an artist, I believe, has Pneumonia, too. He is an old, weak man and his case is severe. There is no hope for him, but he goes to the hospital today to ease his pain.\" \n",
      "\n",
      "The next day, the doctor said to Sue:\" She's out of danger. You won. Nutrition and care now - that's all.\" \n",
      "\n",
      "Later that day, Sue came to the bed where Johnsy lay, and put one arm around her. \"I have something to tell you, white mouse,\" she said, \"Mister Behrman died of pneumonia today in the hospital. He was sick only two days. They found him the morning of the first day in his room downstairs helpless with pain. His shoes and clothing were completely wet and icy cold. They could not imagine where he had been on such a terrible night. \n",
      "\n",
      "\"And then they found a lantern, still lighted, and a ladder that had been moved from its place. And art supplies and a painting board with green and yellow color1s mixed on it. \n",
      "\n",
      "\"Look out the window, dear, at the last ivy leaf on the wall. Didn't you wonder why it never moved when the wind blew? Ah, darling, it is Behrman's masterpiece - he painted it there\n",
      "32zkvd547fnu6149fn9rb5z8f63b3a\n",
      "What's he going to paint some day? day in his room downstairs helpless with pain. His shoes and clothing were completely wet and icy cold. They could not imagine where he had been on such a terrible night. \n",
      "\n",
      "\"And then they found a lantern, still lighted, and a ladder that had been moved from its place. And art supplies and a painting board with green and yellow color1s mixed on it. \n",
      "\n",
      "\"Look out the window, dear, at the last ivy leaf on the wall. Didn't you wonder why it never moved when the wind blew? Ah, darling, it is Behrman's masterpiece - he painted it there the night that the last leaf fell.\"\n",
      "32zkvd547fnu6149fn9rb5z8f63b3a\n"
     ]
    }
   ],
   "source": [
    "for x in tokenized_example[\"input_ids\"][:2]:\n",
    "    print(tokenizer.decode(x))\n",
    "    print(example[\"id\"])"
   ]
  },
  {
   "cell_type": "markdown",
   "metadata": {
    "id": "SyOevoCVVOJZ"
   },
   "source": [
    "Now this will give us some work to properly treat the answers: we need to find in which of those features the answer actually is, and where exactly in that feature. The models we will use require the start and end positions of these answers in the tokens, so we will also need to to map parts of the original context to some tokens. Thankfully, the tokenizer we're using can help us with that by returning an `offset_mapping`:"
   ]
  },
  {
   "cell_type": "code",
   "execution_count": 112,
   "metadata": {
    "id": "QTfoZS7BVOJZ",
    "outputId": "ac7f17a3-4d7f-4e07-81d0-6f2542bb1279"
   },
   "outputs": [
    {
     "name": "stdout",
     "output_type": "stream",
     "text": [
      "dict_keys(['input_ids', 'attention_mask', 'offset_mapping', 'overflow_to_sample_mapping'])\n",
      "\n",
      "What's he going to paint some day? day in his room downstairs helpless with pain. His shoes and clothing were completely wet and icy cold. They could not imagine where he had been on such a terrible night. \n",
      "\n",
      "\"And then they found a lantern, still lighted, and a ladder that had been moved from its place. And art supplies and a painting board with green and yellow color1s mixed on it. \n",
      "\n",
      "\"Look out the window, dear, at the last ivy leaf on the wall. Didn't you wonder why it never moved when the wind blew? Ah, darling, it is Behrman's masterpiece - he painted it there the night that the last leaf fell.\"<|paddingtokencustomized|><|paddingtokencustomized|><|paddingtokencustomized|><|paddingtokencustomized|><|paddingtokencustomized|><|paddingtokencustomized|><|paddingtokencustomized|><|paddingtokencustomized|><|paddingtokencustomized|><|paddingtokencustomized|><|paddingtokencustomized|><|paddingtokencustomized|><|paddingtokencustomized|><|paddingtokencustomized|><|paddingtokencustomized|><|paddingtokencustomized|><|paddingtokencustomized|><|paddingtokencustomized|><|paddingtokencustomized|><|paddingtokencustomized|><|paddingtokencustomized|><|paddingtokencustomized|><|paddingtokencustomized|><|paddingtokencustomized|><|paddingtokencustomized|><|paddingtokencustomized|><|paddingtokencustomized|><|paddingtokencustomized|><|paddingtokencustomized|><|paddingtokencustomized|><|paddingtokencustomized|><|paddingtokencustomized|><|paddingtokencustomized|><|paddingtokencustomized|><|paddingtokencustomized|><|paddingtokencustomized|><|paddingtokencustomized|><|paddingtokencustomized|><|paddingtokencustomized|><|paddingtokencustomized|><|paddingtokencustomized|><|paddingtokencustomized|><|paddingtokencustomized|><|paddingtokencustomized|><|paddingtokencustomized|><|paddingtokencustomized|><|paddingtokencustomized|><|paddingtokencustomized|><|paddingtokencustomized|><|paddingtokencustomized|><|paddingtokencustomized|><|paddingtokencustomized|><|paddingtokencustomized|><|paddingtokencustomized|><|paddingtokencustomized|><|paddingtokencustomized|><|paddingtokencustomized|><|paddingtokencustomized|><|paddingtokencustomized|><|paddingtokencustomized|><|paddingtokencustomized|><|paddingtokencustomized|><|paddingtokencustomized|><|paddingtokencustomized|><|paddingtokencustomized|><|paddingtokencustomized|><|paddingtokencustomized|><|paddingtokencustomized|><|paddingtokencustomized|><|paddingtokencustomized|><|paddingtokencustomized|><|paddingtokencustomized|><|paddingtokencustomized|><|paddingtokencustomized|><|paddingtokencustomized|><|paddingtokencustomized|><|paddingtokencustomized|><|paddingtokencustomized|><|paddingtokencustomized|><|paddingtokencustomized|><|paddingtokencustomized|><|paddingtokencustomized|><|paddingtokencustomized|><|paddingtokencustomized|><|paddingtokencustomized|><|paddingtokencustomized|><|paddingtokencustomized|><|paddingtokencustomized|><|paddingtokencustomized|><|paddingtokencustomized|><|paddingtokencustomized|><|paddingtokencustomized|><|paddingtokencustomized|><|paddingtokencustomized|><|paddingtokencustomized|><|paddingtokencustomized|><|paddingtokencustomized|><|paddingtokencustomized|><|paddingtokencustomized|><|paddingtokencustomized|><|paddingtokencustomized|><|paddingtokencustomized|><|paddingtokencustomized|><|paddingtokencustomized|><|paddingtokencustomized|><|paddingtokencustomized|><|paddingtokencustomized|><|paddingtokencustomized|><|paddingtokencustomized|><|paddingtokencustomized|><|paddingtokencustomized|><|paddingtokencustomized|><|paddingtokencustomized|><|paddingtokencustomized|><|paddingtokencustomized|><|paddingtokencustomized|><|paddingtokencustomized|><|paddingtokencustomized|><|paddingtokencustomized|><|paddingtokencustomized|><|paddingtokencustomized|><|paddingtokencustomized|><|paddingtokencustomized|><|paddingtokencustomized|><|paddingtokencustomized|><|paddingtokencustomized|><|paddingtokencustomized|><|paddingtokencustomized|><|paddingtokencustomized|><|paddingtokencustomized|><|paddingtokencustomized|><|paddingtokencustomized|><|paddingtokencustomized|><|paddingtokencustomized|><|paddingtokencustomized|><|paddingtokencustomized|><|paddingtokencustomized|><|paddingtokencustomized|><|paddingtokencustomized|><|paddingtokencustomized|><|paddingtokencustomized|><|paddingtokencustomized|><|paddingtokencustomized|><|paddingtokencustomized|><|paddingtokencustomized|><|paddingtokencustomized|><|paddingtokencustomized|><|paddingtokencustomized|><|paddingtokencustomized|><|paddingtokencustomized|><|paddingtokencustomized|><|paddingtokencustomized|><|paddingtokencustomized|><|paddingtokencustomized|><|paddingtokencustomized|><|paddingtokencustomized|><|paddingtokencustomized|><|paddingtokencustomized|><|paddingtokencustomized|><|paddingtokencustomized|><|paddingtokencustomized|><|paddingtokencustomized|><|paddingtokencustomized|><|paddingtokencustomized|><|paddingtokencustomized|><|paddingtokencustomized|><|paddingtokencustomized|><|paddingtokencustomized|><|paddingtokencustomized|><|paddingtokencustomized|><|paddingtokencustomized|><|paddingtokencustomized|><|paddingtokencustomized|><|paddingtokencustomized|><|paddingtokencustomized|><|paddingtokencustomized|><|paddingtokencustomized|><|paddingtokencustomized|><|paddingtokencustomized|><|paddingtokencustomized|><|paddingtokencustomized|><|paddingtokencustomized|><|paddingtokencustomized|><|paddingtokencustomized|><|paddingtokencustomized|><|paddingtokencustomized|><|paddingtokencustomized|><|paddingtokencustomized|><|paddingtokencustomized|><|paddingtokencustomized|><|paddingtokencustomized|><|paddingtokencustomized|><|paddingtokencustomized|><|paddingtokencustomized|><|paddingtokencustomized|><|paddingtokencustomized|><|paddingtokencustomized|><|paddingtokencustomized|><|paddingtokencustomized|><|paddingtokencustomized|><|paddingtokencustomized|><|paddingtokencustomized|><|paddingtokencustomized|><|paddingtokencustomized|><|paddingtokencustomized|><|paddingtokencustomized|><|paddingtokencustomized|><|paddingtokencustomized|><|paddingtokencustomized|><|paddingtokencustomized|><|paddingtokencustomized|><|paddingtokencustomized|><|paddingtokencustomized|><|paddingtokencustomized|><|paddingtokencustomized|><|paddingtokencustomized|><|paddingtokencustomized|><|paddingtokencustomized|><|paddingtokencustomized|><|paddingtokencustomized|><|paddingtokencustomized|><|paddingtokencustomized|><|paddingtokencustomized|><|paddingtokencustomized|><|paddingtokencustomized|><|paddingtokencustomized|><|paddingtokencustomized|><|paddingtokencustomized|><|paddingtokencustomized|><|paddingtokencustomized|><|paddingtokencustomized|><|paddingtokencustomized|><|paddingtokencustomized|><|paddingtokencustomized|><|paddingtokencustomized|><|paddingtokencustomized|><|paddingtokencustomized|><|paddingtokencustomized|><|paddingtokencustomized|><|paddingtokencustomized|><|paddingtokencustomized|><|paddingtokencustomized|><|paddingtokencustomized|><|paddingtokencustomized|><|paddingtokencustomized|><|paddingtokencustomized|><|paddingtokencustomized|><|paddingtokencustomized|><|paddingtokencustomized|><|paddingtokencustomized|><|paddingtokencustomized|><|paddingtokencustomized|><|paddingtokencustomized|><|paddingtokencustomized|><|paddingtokencustomized|><|paddingtokencustomized|><|paddingtokencustomized|><|paddingtokencustomized|><|paddingtokencustomized|><|paddingtokencustomized|><|paddingtokencustomized|><|paddingtokencustomized|><|paddingtokencustomized|><|paddingtokencustomized|><|paddingtokencustomized|><|paddingtokencustomized|><|paddingtokencustomized|><|paddingtokencustomized|><|paddingtokencustomized|><|paddingtokencustomized|><|paddingtokencustomized|><|paddingtokencustomized|><|paddingtokencustomized|><|paddingtokencustomized|><|paddingtokencustomized|><|paddingtokencustomized|><|paddingtokencustomized|><|paddingtokencustomized|><|paddingtokencustomized|><|paddingtokencustomized|><|paddingtokencustomized|><|paddingtokencustomized|><|paddingtokencustomized|><|paddingtokencustomized|><|paddingtokencustomized|><|paddingtokencustomized|><|paddingtokencustomized|><|paddingtokencustomized|><|paddingtokencustomized|><|paddingtokencustomized|><|paddingtokencustomized|><|paddingtokencustomized|><|paddingtokencustomized|><|paddingtokencustomized|><|paddingtokencustomized|><|paddingtokencustomized|><|paddingtokencustomized|><|paddingtokencustomized|><|paddingtokencustomized|><|paddingtokencustomized|><|paddingtokencustomized|><|paddingtokencustomized|><|paddingtokencustomized|><|paddingtokencustomized|><|paddingtokencustomized|><|paddingtokencustomized|><|paddingtokencustomized|><|paddingtokencustomized|><|paddingtokencustomized|><|paddingtokencustomized|><|paddingtokencustomized|><|paddingtokencustomized|><|paddingtokencustomized|><|paddingtokencustomized|><|paddingtokencustomized|><|paddingtokencustomized|><|paddingtokencustomized|><|paddingtokencustomized|><|paddingtokencustomized|><|paddingtokencustomized|><|paddingtokencustomized|><|paddingtokencustomized|><|paddingtokencustomized|><|paddingtokencustomized|><|paddingtokencustomized|><|paddingtokencustomized|><|paddingtokencustomized|><|paddingtokencustomized|><|paddingtokencustomized|><|paddingtokencustomized|><|paddingtokencustomized|><|paddingtokencustomized|><|paddingtokencustomized|><|paddingtokencustomized|><|paddingtokencustomized|><|paddingtokencustomized|><|paddingtokencustomized|><|paddingtokencustomized|><|paddingtokencustomized|><|paddingtokencustomized|><|paddingtokencustomized|><|paddingtokencustomized|><|paddingtokencustomized|><|paddingtokencustomized|><|paddingtokencustomized|><|paddingtokencustomized|><|paddingtokencustomized|><|paddingtokencustomized|><|paddingtokencustomized|><|paddingtokencustomized|><|paddingtokencustomized|><|paddingtokencustomized|><|paddingtokencustomized|><|paddingtokencustomized|><|paddingtokencustomized|><|paddingtokencustomized|><|paddingtokencustomized|><|paddingtokencustomized|><|paddingtokencustomized|><|paddingtokencustomized|><|paddingtokencustomized|><|paddingtokencustomized|><|paddingtokencustomized|><|paddingtokencustomized|><|paddingtokencustomized|><|paddingtokencustomized|><|paddingtokencustomized|><|paddingtokencustomized|><|paddingtokencustomized|><|paddingtokencustomized|><|paddingtokencustomized|><|paddingtokencustomized|><|paddingtokencustomized|><|paddingtokencustomized|><|paddingtokencustomized|><|paddingtokencustomized|><|paddingtokencustomized|><|paddingtokencustomized|><|paddingtokencustomized|><|paddingtokencustomized|><|paddingtokencustomized|><|paddingtokencustomized|><|paddingtokencustomized|><|paddingtokencustomized|><|paddingtokencustomized|><|paddingtokencustomized|><|paddingtokencustomized|><|paddingtokencustomized|><|paddingtokencustomized|><|paddingtokencustomized|><|paddingtokencustomized|><|paddingtokencustomized|><|paddingtokencustomized|><|paddingtokencustomized|><|paddingtokencustomized|><|paddingtokencustomized|><|paddingtokencustomized|><|paddingtokencustomized|><|paddingtokencustomized|><|paddingtokencustomized|><|paddingtokencustomized|><|paddingtokencustomized|><|paddingtokencustomized|><|paddingtokencustomized|><|paddingtokencustomized|><|paddingtokencustomized|><|paddingtokencustomized|><|paddingtokencustomized|><|paddingtokencustomized|><|paddingtokencustomized|><|paddingtokencustomized|><|paddingtokencustomized|><|paddingtokencustomized|><|paddingtokencustomized|><|paddingtokencustomized|><|paddingtokencustomized|><|paddingtokencustomized|><|paddingtokencustomized|><|paddingtokencustomized|><|paddingtokencustomized|><|paddingtokencustomized|><|paddingtokencustomized|><|paddingtokencustomized|><|paddingtokencustomized|><|paddingtokencustomized|><|paddingtokencustomized|><|paddingtokencustomized|><|paddingtokencustomized|><|paddingtokencustomized|><|paddingtokencustomized|><|paddingtokencustomized|><|paddingtokencustomized|><|paddingtokencustomized|><|paddingtokencustomized|><|paddingtokencustomized|><|paddingtokencustomized|><|paddingtokencustomized|><|paddingtokencustomized|><|paddingtokencustomized|><|paddingtokencustomized|><|paddingtokencustomized|><|paddingtokencustomized|><|paddingtokencustomized|><|paddingtokencustomized|><|paddingtokencustomized|><|paddingtokencustomized|><|paddingtokencustomized|><|paddingtokencustomized|><|paddingtokencustomized|><|paddingtokencustomized|><|paddingtokencustomized|><|paddingtokencustomized|><|paddingtokencustomized|><|paddingtokencustomized|><|paddingtokencustomized|><|paddingtokencustomized|><|paddingtokencustomized|><|paddingtokencustomized|><|paddingtokencustomized|><|paddingtokencustomized|><|paddingtokencustomized|><|paddingtokencustomized|><|paddingtokencustomized|><|paddingtokencustomized|><|paddingtokencustomized|><|paddingtokencustomized|><|paddingtokencustomized|><|paddingtokencustomized|><|paddingtokencustomized|><|paddingtokencustomized|><|paddingtokencustomized|><|paddingtokencustomized|><|paddingtokencustomized|><|paddingtokencustomized|><|paddingtokencustomized|><|paddingtokencustomized|><|paddingtokencustomized|><|paddingtokencustomized|><|paddingtokencustomized|><|paddingtokencustomized|><|paddingtokencustomized|><|paddingtokencustomized|><|paddingtokencustomized|><|paddingtokencustomized|><|paddingtokencustomized|><|paddingtokencustomized|><|paddingtokencustomized|><|paddingtokencustomized|><|paddingtokencustomized|><|paddingtokencustomized|><|paddingtokencustomized|><|paddingtokencustomized|><|paddingtokencustomized|><|paddingtokencustomized|><|paddingtokencustomized|><|paddingtokencustomized|><|paddingtokencustomized|><|paddingtokencustomized|><|paddingtokencustomized|><|paddingtokencustomized|><|paddingtokencustomized|><|paddingtokencustomized|><|paddingtokencustomized|><|paddingtokencustomized|><|paddingtokencustomized|><|paddingtokencustomized|><|paddingtokencustomized|><|paddingtokencustomized|><|paddingtokencustomized|><|paddingtokencustomized|><|paddingtokencustomized|><|paddingtokencustomized|><|paddingtokencustomized|><|paddingtokencustomized|><|paddingtokencustomized|><|paddingtokencustomized|><|paddingtokencustomized|><|paddingtokencustomized|><|paddingtokencustomized|><|paddingtokencustomized|><|paddingtokencustomized|><|paddingtokencustomized|><|paddingtokencustomized|><|paddingtokencustomized|><|paddingtokencustomized|><|paddingtokencustomized|><|paddingtokencustomized|><|paddingtokencustomized|><|paddingtokencustomized|><|paddingtokencustomized|><|paddingtokencustomized|><|paddingtokencustomized|><|paddingtokencustomized|><|paddingtokencustomized|><|paddingtokencustomized|><|paddingtokencustomized|><|paddingtokencustomized|><|paddingtokencustomized|><|paddingtokencustomized|><|paddingtokencustomized|><|paddingtokencustomized|><|paddingtokencustomized|><|paddingtokencustomized|><|paddingtokencustomized|><|paddingtokencustomized|><|paddingtokencustomized|><|paddingtokencustomized|><|paddingtokencustomized|><|paddingtokencustomized|><|paddingtokencustomized|><|paddingtokencustomized|><|paddingtokencustomized|><|paddingtokencustomized|><|paddingtokencustomized|><|paddingtokencustomized|><|paddingtokencustomized|><|paddingtokencustomized|><|paddingtokencustomized|><|paddingtokencustomized|><|paddingtokencustomized|><|paddingtokencustomized|><|paddingtokencustomized|><|paddingtokencustomized|><|paddingtokencustomized|><|paddingtokencustomized|><|paddingtokencustomized|><|paddingtokencustomized|><|paddingtokencustomized|><|paddingtokencustomized|><|paddingtokencustomized|><|paddingtokencustomized|><|paddingtokencustomized|><|paddingtokencustomized|><|paddingtokencustomized|><|paddingtokencustomized|><|paddingtokencustomized|><|paddingtokencustomized|><|paddingtokencustomized|><|paddingtokencustomized|><|paddingtokencustomized|><|paddingtokencustomized|><|paddingtokencustomized|><|paddingtokencustomized|><|paddingtokencustomized|><|paddingtokencustomized|><|paddingtokencustomized|><|paddingtokencustomized|><|paddingtokencustomized|><|paddingtokencustomized|><|paddingtokencustomized|><|paddingtokencustomized|><|paddingtokencustomized|><|paddingtokencustomized|><|paddingtokencustomized|><|paddingtokencustomized|><|paddingtokencustomized|><|paddingtokencustomized|><|paddingtokencustomized|><|paddingtokencustomized|><|paddingtokencustomized|><|paddingtokencustomized|><|paddingtokencustomized|><|paddingtokencustomized|><|paddingtokencustomized|><|paddingtokencustomized|><|paddingtokencustomized|><|paddingtokencustomized|><|paddingtokencustomized|><|paddingtokencustomized|><|paddingtokencustomized|><|paddingtokencustomized|><|paddingtokencustomized|><|paddingtokencustomized|><|paddingtokencustomized|><|paddingtokencustomized|><|paddingtokencustomized|><|paddingtokencustomized|><|paddingtokencustomized|><|paddingtokencustomized|><|paddingtokencustomized|><|paddingtokencustomized|><|paddingtokencustomized|><|paddingtokencustomized|><|paddingtokencustomized|><|paddingtokencustomized|><|paddingtokencustomized|><|paddingtokencustomized|><|paddingtokencustomized|><|paddingtokencustomized|><|paddingtokencustomized|><|paddingtokencustomized|><|paddingtokencustomized|><|paddingtokencustomized|><|paddingtokencustomized|><|paddingtokencustomized|><|paddingtokencustomized|><|paddingtokencustomized|><|paddingtokencustomized|><|paddingtokencustomized|><|paddingtokencustomized|><|paddingtokencustomized|><|paddingtokencustomized|><|paddingtokencustomized|><|paddingtokencustomized|><|paddingtokencustomized|><|paddingtokencustomized|><|paddingtokencustomized|><|paddingtokencustomized|><|paddingtokencustomized|><|paddingtokencustomized|><|paddingtokencustomized|><|paddingtokencustomized|><|paddingtokencustomized|><|paddingtokencustomized|><|paddingtokencustomized|><|paddingtokencustomized|><|paddingtokencustomized|><|paddingtokencustomized|><|paddingtokencustomized|><|paddingtokencustomized|><|paddingtokencustomized|><|paddingtokencustomized|><|paddingtokencustomized|><|paddingtokencustomized|><|paddingtokencustomized|><|paddingtokencustomized|><|paddingtokencustomized|><|paddingtokencustomized|><|paddingtokencustomized|><|paddingtokencustomized|><|paddingtokencustomized|><|paddingtokencustomized|><|paddingtokencustomized|><|paddingtokencustomized|><|paddingtokencustomized|><|paddingtokencustomized|><|paddingtokencustomized|><|paddingtokencustomized|><|paddingtokencustomized|><|paddingtokencustomized|><|paddingtokencustomized|><|paddingtokencustomized|><|paddingtokencustomized|><|paddingtokencustomized|><|paddingtokencustomized|><|paddingtokencustomized|><|paddingtokencustomized|><|paddingtokencustomized|><|paddingtokencustomized|><|paddingtokencustomized|><|paddingtokencustomized|><|paddingtokencustomized|><|paddingtokencustomized|><|paddingtokencustomized|><|paddingtokencustomized|><|paddingtokencustomized|><|paddingtokencustomized|><|paddingtokencustomized|><|paddingtokencustomized|><|paddingtokencustomized|><|paddingtokencustomized|><|paddingtokencustomized|><|paddingtokencustomized|><|paddingtokencustomized|><|paddingtokencustomized|><|paddingtokencustomized|><|paddingtokencustomized|><|paddingtokencustomized|><|paddingtokencustomized|><|paddingtokencustomized|><|paddingtokencustomized|><|paddingtokencustomized|><|paddingtokencustomized|><|paddingtokencustomized|><|paddingtokencustomized|><|paddingtokencustomized|><|paddingtokencustomized|><|paddingtokencustomized|><|paddingtokencustomized|><|paddingtokencustomized|><|paddingtokencustomized|><|paddingtokencustomized|><|paddingtokencustomized|><|paddingtokencustomized|><|paddingtokencustomized|><|paddingtokencustomized|><|paddingtokencustomized|><|paddingtokencustomized|><|paddingtokencustomized|><|paddingtokencustomized|><|paddingtokencustomized|><|paddingtokencustomized|><|paddingtokencustomized|><|paddingtokencustomized|><|paddingtokencustomized|><|paddingtokencustomized|><|paddingtokencustomized|><|paddingtokencustomized|><|paddingtokencustomized|><|paddingtokencustomized|><|paddingtokencustomized|><|paddingtokencustomized|><|paddingtokencustomized|><|paddingtokencustomized|><|paddingtokencustomized|><|paddingtokencustomized|><|paddingtokencustomized|><|paddingtokencustomized|><|paddingtokencustomized|><|paddingtokencustomized|><|paddingtokencustomized|><|paddingtokencustomized|><|paddingtokencustomized|><|paddingtokencustomized|><|paddingtokencustomized|><|paddingtokencustomized|><|paddingtokencustomized|><|paddingtokencustomized|><|paddingtokencustomized|><|paddingtokencustomized|><|paddingtokencustomized|><|paddingtokencustomized|><|paddingtokencustomized|><|paddingtokencustomized|><|paddingtokencustomized|><|paddingtokencustomized|><|paddingtokencustomized|><|paddingtokencustomized|><|paddingtokencustomized|><|paddingtokencustomized|><|paddingtokencustomized|><|paddingtokencustomized|><|paddingtokencustomized|><|paddingtokencustomized|><|paddingtokencustomized|><|paddingtokencustomized|><|paddingtokencustomized|><|paddingtokencustomized|><|paddingtokencustomized|><|paddingtokencustomized|><|paddingtokencustomized|><|paddingtokencustomized|><|paddingtokencustomized|><|paddingtokencustomized|><|paddingtokencustomized|><|paddingtokencustomized|><|paddingtokencustomized|><|paddingtokencustomized|><|paddingtokencustomized|><|paddingtokencustomized|><|paddingtokencustomized|><|paddingtokencustomized|><|paddingtokencustomized|><|paddingtokencustomized|><|paddingtokencustomized|><|paddingtokencustomized|><|paddingtokencustomized|><|paddingtokencustomized|><|paddingtokencustomized|><|paddingtokencustomized|><|paddingtokencustomized|><|paddingtokencustomized|><|paddingtokencustomized|><|paddingtokencustomized|><|paddingtokencustomized|><|paddingtokencustomized|><|paddingtokencustomized|><|paddingtokencustomized|><|paddingtokencustomized|><|paddingtokencustomized|><|paddingtokencustomized|><|paddingtokencustomized|><|paddingtokencustomized|><|paddingtokencustomized|><|paddingtokencustomized|><|paddingtokencustomized|><|paddingtokencustomized|><|paddingtokencustomized|><|paddingtokencustomized|><|paddingtokencustomized|><|paddingtokencustomized|><|paddingtokencustomized|><|paddingtokencustomized|><|paddingtokencustomized|><|paddingtokencustomized|><|paddingtokencustomized|><|paddingtokencustomized|><|paddingtokencustomized|><|paddingtokencustomized|><|paddingtokencustomized|><|paddingtokencustomized|><|paddingtokencustomized|><|paddingtokencustomized|><|paddingtokencustomized|><|paddingtokencustomized|><|paddingtokencustomized|><|paddingtokencustomized|><|paddingtokencustomized|><|paddingtokencustomized|><|paddingtokencustomized|><|paddingtokencustomized|><|paddingtokencustomized|><|paddingtokencustomized|><|paddingtokencustomized|><|paddingtokencustomized|><|paddingtokencustomized|><|paddingtokencustomized|><|paddingtokencustomized|><|paddingtokencustomized|><|paddingtokencustomized|><|paddingtokencustomized|><|paddingtokencustomized|><|paddingtokencustomized|><|paddingtokencustomized|><|paddingtokencustomized|><|paddingtokencustomized|><|paddingtokencustomized|><|paddingtokencustomized|><|paddingtokencustomized|><|paddingtokencustomized|><|paddingtokencustomized|><|paddingtokencustomized|><|paddingtokencustomized|><|paddingtokencustomized|><|paddingtokencustomized|><|paddingtokencustomized|><|paddingtokencustomized|><|paddingtokencustomized|><|paddingtokencustomized|><|paddingtokencustomized|><|paddingtokencustomized|><|paddingtokencustomized|><|paddingtokencustomized|><|paddingtokencustomized|><|paddingtokencustomized|>\n",
      "[2061, 338, 339, 1016, 284, 7521, 617, 1110, 30, 1110, 287, 465, 2119, 34624, 21144, 351, 2356, 13, 2399, 10012, 290, 9528, 547, 3190, 9583, 290, 30284, 4692, 13, 1119, 714, 407, 5967, 810, 339, 550, 587, 319, 884, 257, 7818, 1755, 13, 220, 198, 198, 1, 1870, 788, 484, 1043, 257, 41207, 11, 991, 1657, 276, 11, 290, 257, 18002, 326, 550, 587, 3888, 422, 663, 1295, 13, 843, 1242, 9416, 290, 257, 12036, 3096, 351, 4077, 290, 7872, 3124, 16, 82, 7668, 319, 340, 13, 220, 198, 198, 1, 8567, 503, 262, 4324, 11, 13674, 11, 379, 262, 938, 21628, 88, 12835, 319, 262, 3355, 13, 31279, 470, 345, 4240, 1521, 340, 1239, 3888, 618, 262, 2344, 17948, 30, 7900, 11, 40003, 11, 340, 318, 10407, 81, 805, 338, 30669, 532, 339, 13055, 340, 612, 262, 1755, 326, 262, 938, 12835, 3214, 526, 50257, 50257, 50257, 50257, 50257, 50257, 50257, 50257, 50257, 50257, 50257, 50257, 50257, 50257, 50257, 50257, 50257, 50257, 50257, 50257, 50257, 50257, 50257, 50257, 50257, 50257, 50257, 50257, 50257, 50257, 50257, 50257, 50257, 50257, 50257, 50257, 50257, 50257, 50257, 50257, 50257, 50257, 50257, 50257, 50257, 50257, 50257, 50257, 50257, 50257, 50257, 50257, 50257, 50257, 50257, 50257, 50257, 50257, 50257, 50257, 50257, 50257, 50257, 50257, 50257, 50257, 50257, 50257, 50257, 50257, 50257, 50257, 50257, 50257, 50257, 50257, 50257, 50257, 50257, 50257, 50257, 50257, 50257, 50257, 50257, 50257, 50257, 50257, 50257, 50257, 50257, 50257, 50257, 50257, 50257, 50257, 50257, 50257, 50257, 50257, 50257, 50257, 50257, 50257, 50257, 50257, 50257, 50257, 50257, 50257, 50257, 50257, 50257, 50257, 50257, 50257, 50257, 50257, 50257, 50257, 50257, 50257, 50257, 50257, 50257, 50257, 50257, 50257, 50257, 50257, 50257, 50257, 50257, 50257, 50257, 50257, 50257, 50257, 50257, 50257, 50257, 50257, 50257, 50257, 50257, 50257, 50257, 50257, 50257, 50257, 50257, 50257, 50257, 50257, 50257, 50257, 50257, 50257, 50257, 50257, 50257, 50257, 50257, 50257, 50257, 50257, 50257, 50257, 50257, 50257, 50257, 50257, 50257, 50257, 50257, 50257, 50257, 50257, 50257, 50257, 50257, 50257, 50257, 50257, 50257, 50257, 50257, 50257, 50257, 50257, 50257, 50257, 50257, 50257, 50257, 50257, 50257, 50257, 50257, 50257, 50257, 50257, 50257, 50257, 50257, 50257, 50257, 50257, 50257, 50257, 50257, 50257, 50257, 50257, 50257, 50257, 50257, 50257, 50257, 50257, 50257, 50257, 50257, 50257, 50257, 50257, 50257, 50257, 50257, 50257, 50257, 50257, 50257, 50257, 50257, 50257, 50257, 50257, 50257, 50257, 50257, 50257, 50257, 50257, 50257, 50257, 50257, 50257, 50257, 50257, 50257, 50257, 50257, 50257, 50257, 50257, 50257, 50257, 50257, 50257, 50257, 50257, 50257, 50257, 50257, 50257, 50257, 50257, 50257, 50257, 50257, 50257, 50257, 50257, 50257, 50257, 50257, 50257, 50257, 50257, 50257, 50257, 50257, 50257, 50257, 50257, 50257, 50257, 50257, 50257, 50257, 50257, 50257, 50257, 50257, 50257, 50257, 50257, 50257, 50257, 50257, 50257, 50257, 50257, 50257, 50257, 50257, 50257, 50257, 50257, 50257, 50257, 50257, 50257, 50257, 50257, 50257, 50257, 50257, 50257, 50257, 50257, 50257, 50257, 50257, 50257, 50257, 50257, 50257, 50257, 50257, 50257, 50257, 50257, 50257, 50257, 50257, 50257, 50257, 50257, 50257, 50257, 50257, 50257, 50257, 50257, 50257, 50257, 50257, 50257, 50257, 50257, 50257, 50257, 50257, 50257, 50257, 50257, 50257, 50257, 50257, 50257, 50257, 50257, 50257, 50257, 50257, 50257, 50257, 50257, 50257, 50257, 50257, 50257, 50257, 50257, 50257, 50257, 50257, 50257, 50257, 50257, 50257, 50257, 50257, 50257, 50257, 50257, 50257, 50257, 50257, 50257, 50257, 50257, 50257, 50257, 50257, 50257, 50257, 50257, 50257, 50257, 50257, 50257, 50257, 50257, 50257, 50257, 50257, 50257, 50257, 50257, 50257, 50257, 50257, 50257, 50257, 50257, 50257, 50257, 50257, 50257, 50257, 50257, 50257, 50257, 50257, 50257, 50257, 50257, 50257, 50257, 50257, 50257, 50257, 50257, 50257, 50257, 50257, 50257, 50257, 50257, 50257, 50257, 50257, 50257, 50257, 50257, 50257, 50257, 50257, 50257, 50257, 50257, 50257, 50257, 50257, 50257, 50257, 50257, 50257, 50257, 50257, 50257, 50257, 50257, 50257, 50257, 50257, 50257, 50257, 50257, 50257, 50257, 50257, 50257, 50257, 50257, 50257, 50257, 50257, 50257, 50257, 50257, 50257, 50257, 50257, 50257, 50257, 50257, 50257, 50257, 50257, 50257, 50257, 50257, 50257, 50257, 50257, 50257, 50257, 50257, 50257, 50257, 50257, 50257, 50257, 50257, 50257, 50257, 50257, 50257, 50257, 50257, 50257, 50257, 50257, 50257, 50257, 50257, 50257, 50257, 50257, 50257, 50257, 50257, 50257, 50257, 50257, 50257, 50257, 50257, 50257, 50257, 50257, 50257, 50257, 50257, 50257, 50257, 50257, 50257, 50257, 50257, 50257, 50257, 50257, 50257, 50257, 50257, 50257, 50257, 50257, 50257, 50257, 50257, 50257, 50257, 50257, 50257, 50257, 50257, 50257, 50257, 50257, 50257, 50257, 50257, 50257, 50257, 50257, 50257, 50257, 50257, 50257, 50257, 50257, 50257, 50257, 50257, 50257, 50257, 50257, 50257, 50257, 50257, 50257, 50257, 50257, 50257, 50257, 50257, 50257, 50257, 50257, 50257, 50257, 50257, 50257, 50257, 50257, 50257, 50257, 50257, 50257, 50257, 50257, 50257, 50257, 50257, 50257, 50257, 50257, 50257, 50257, 50257, 50257, 50257, 50257, 50257, 50257, 50257, 50257, 50257, 50257, 50257, 50257, 50257, 50257, 50257, 50257, 50257, 50257, 50257, 50257, 50257, 50257, 50257, 50257, 50257, 50257, 50257, 50257, 50257, 50257, 50257, 50257, 50257, 50257, 50257, 50257, 50257, 50257, 50257, 50257, 50257, 50257, 50257, 50257, 50257, 50257, 50257, 50257, 50257, 50257, 50257, 50257, 50257, 50257, 50257, 50257, 50257, 50257, 50257, 50257, 50257, 50257, 50257, 50257, 50257, 50257, 50257, 50257, 50257, 50257, 50257, 50257, 50257, 50257, 50257, 50257, 50257, 50257, 50257, 50257, 50257, 50257, 50257, 50257, 50257, 50257, 50257, 50257, 50257, 50257, 50257, 50257, 50257, 50257, 50257, 50257, 50257, 50257, 50257, 50257, 50257, 50257, 50257, 50257, 50257, 50257, 50257, 50257, 50257, 50257, 50257, 50257, 50257, 50257, 50257, 50257, 50257, 50257, 50257, 50257, 50257, 50257, 50257, 50257, 50257, 50257, 50257, 50257, 50257, 50257, 50257, 50257, 50257, 50257, 50257, 50257, 50257, 50257, 50257, 50257, 50257, 50257, 50257, 50257, 50257, 50257, 50257, 50257, 50257, 50257, 50257, 50257, 50257, 50257, 50257, 50257, 50257, 50257, 50257, 50257, 50257, 50257, 50257, 50257, 50257, 50257, 50257, 50257, 50257, 50257, 50257, 50257, 50257, 50257, 50257, 50257, 50257, 50257, 50257, 50257, 50257, 50257, 50257, 50257, 50257, 50257, 50257, 50257, 50257, 50257, 50257, 50257, 50257, 50257, 50257, 50257, 50257, 50257, 50257, 50257, 50257, 50257, 50257, 50257, 50257, 50257, 50257, 50257, 50257, 50257, 50257, 50257, 50257, 50257, 50257, 50257, 50257, 50257, 50257, 50257, 50257, 50257, 50257, 50257, 50257, 50257, 50257, 50257, 50257, 50257, 50257, 50257, 50257, 50257, 50257, 50257, 50257, 50257, 50257, 50257, 50257, 50257, 50257, 50257, 50257, 50257, 50257, 50257, 50257, 50257, 50257, 50257, 50257, 50257, 50257, 50257, 50257, 50257, 50257, 50257]\n",
      "[1, 1, 1, 1, 1, 1, 1, 1, 1, 1, 1, 1, 1, 1, 1, 1, 1, 1, 1, 1, 1, 1, 1, 1, 1, 1, 1, 1, 1, 1, 1, 1, 1, 1, 1, 1, 1, 1, 1, 1, 1, 1, 1, 1, 1, 1, 1, 1, 1, 1, 1, 1, 1, 1, 1, 1, 1, 1, 1, 1, 1, 1, 1, 1, 1, 1, 1, 1, 1, 1, 1, 1, 1, 1, 1, 1, 1, 1, 1, 1, 1, 1, 1, 1, 1, 1, 1, 1, 1, 1, 1, 1, 1, 1, 1, 1, 1, 1, 1, 1, 1, 1, 1, 1, 1, 1, 1, 1, 1, 1, 1, 1, 1, 1, 1, 1, 1, 1, 1, 1, 1, 1, 1, 1, 1, 1, 1, 1, 1, 1, 1, 1, 1, 1, 1, 1, 1, 1, 1, 1, 1, 1, 1, 1, 1, 0, 0, 0, 0, 0, 0, 0, 0, 0, 0, 0, 0, 0, 0, 0, 0, 0, 0, 0, 0, 0, 0, 0, 0, 0, 0, 0, 0, 0, 0, 0, 0, 0, 0, 0, 0, 0, 0, 0, 0, 0, 0, 0, 0, 0, 0, 0, 0, 0, 0, 0, 0, 0, 0, 0, 0, 0, 0, 0, 0, 0, 0, 0, 0, 0, 0, 0, 0, 0, 0, 0, 0, 0, 0, 0, 0, 0, 0, 0, 0, 0, 0, 0, 0, 0, 0, 0, 0, 0, 0, 0, 0, 0, 0, 0, 0, 0, 0, 0, 0, 0, 0, 0, 0, 0, 0, 0, 0, 0, 0, 0, 0, 0, 0, 0, 0, 0, 0, 0, 0, 0, 0, 0, 0, 0, 0, 0, 0, 0, 0, 0, 0, 0, 0, 0, 0, 0, 0, 0, 0, 0, 0, 0, 0, 0, 0, 0, 0, 0, 0, 0, 0, 0, 0, 0, 0, 0, 0, 0, 0, 0, 0, 0, 0, 0, 0, 0, 0, 0, 0, 0, 0, 0, 0, 0, 0, 0, 0, 0, 0, 0, 0, 0, 0, 0, 0, 0, 0, 0, 0, 0, 0, 0, 0, 0, 0, 0, 0, 0, 0, 0, 0, 0, 0, 0, 0, 0, 0, 0, 0, 0, 0, 0, 0, 0, 0, 0, 0, 0, 0, 0, 0, 0, 0, 0, 0, 0, 0, 0, 0, 0, 0, 0, 0, 0, 0, 0, 0, 0, 0, 0, 0, 0, 0, 0, 0, 0, 0, 0, 0, 0, 0, 0, 0, 0, 0, 0, 0, 0, 0, 0, 0, 0, 0, 0, 0, 0, 0, 0, 0, 0, 0, 0, 0, 0, 0, 0, 0, 0, 0, 0, 0, 0, 0, 0, 0, 0, 0, 0, 0, 0, 0, 0, 0, 0, 0, 0, 0, 0, 0, 0, 0, 0, 0, 0, 0, 0, 0, 0, 0, 0, 0, 0, 0, 0, 0, 0, 0, 0, 0, 0, 0, 0, 0, 0, 0, 0, 0, 0, 0, 0, 0, 0, 0, 0, 0, 0, 0, 0, 0, 0, 0, 0, 0, 0, 0, 0, 0, 0, 0, 0, 0, 0, 0, 0, 0, 0, 0, 0, 0, 0, 0, 0, 0, 0, 0, 0, 0, 0, 0, 0, 0, 0, 0, 0, 0, 0, 0, 0, 0, 0, 0, 0, 0, 0, 0, 0, 0, 0, 0, 0, 0, 0, 0, 0, 0, 0, 0, 0, 0, 0, 0, 0, 0, 0, 0, 0, 0, 0, 0, 0, 0, 0, 0, 0, 0, 0, 0, 0, 0, 0, 0, 0, 0, 0, 0, 0, 0, 0, 0, 0, 0, 0, 0, 0, 0, 0, 0, 0, 0, 0, 0, 0, 0, 0, 0, 0, 0, 0, 0, 0, 0, 0, 0, 0, 0, 0, 0, 0, 0, 0, 0, 0, 0, 0, 0, 0, 0, 0, 0, 0, 0, 0, 0, 0, 0, 0, 0, 0, 0, 0, 0, 0, 0, 0, 0, 0, 0, 0, 0, 0, 0, 0, 0, 0, 0, 0, 0, 0, 0, 0, 0, 0, 0, 0, 0, 0, 0, 0, 0, 0, 0, 0, 0, 0, 0, 0, 0, 0, 0, 0, 0, 0, 0, 0, 0, 0, 0, 0, 0, 0, 0, 0, 0, 0, 0, 0, 0, 0, 0, 0, 0, 0, 0, 0, 0, 0, 0, 0, 0, 0, 0, 0, 0, 0, 0, 0, 0, 0, 0, 0, 0, 0, 0, 0, 0, 0, 0, 0, 0, 0, 0, 0, 0, 0, 0, 0, 0, 0, 0, 0, 0, 0, 0, 0, 0, 0, 0, 0, 0, 0, 0, 0, 0, 0, 0, 0, 0, 0, 0, 0, 0, 0, 0, 0, 0, 0, 0, 0, 0, 0, 0, 0, 0, 0, 0, 0, 0, 0, 0, 0, 0, 0, 0, 0, 0, 0, 0, 0, 0, 0, 0, 0, 0, 0, 0, 0, 0, 0, 0, 0, 0, 0, 0, 0, 0, 0, 0, 0, 0, 0, 0, 0, 0, 0, 0, 0, 0, 0, 0, 0, 0, 0, 0, 0, 0, 0, 0, 0, 0, 0, 0, 0, 0, 0, 0, 0, 0, 0, 0, 0, 0, 0, 0, 0, 0, 0, 0, 0, 0, 0, 0, 0, 0, 0, 0, 0, 0, 0, 0, 0, 0, 0, 0, 0, 0, 0, 0, 0, 0, 0, 0, 0, 0, 0, 0, 0, 0, 0, 0, 0, 0, 0, 0, 0, 0, 0, 0, 0, 0, 0, 0, 0, 0, 0, 0, 0, 0, 0, 0, 0, 0, 0, 0, 0, 0, 0, 0, 0, 0, 0, 0, 0, 0, 0, 0, 0, 0, 0, 0, 0, 0, 0, 0, 0, 0, 0, 0, 0, 0, 0, 0, 0, 0, 0, 0, 0, 0, 0, 0, 0, 0, 0, 0, 0, 0, 0, 0, 0, 0, 0, 0, 0, 0, 0, 0, 0, 0, 0, 0, 0, 0, 0, 0, 0, 0, 0, 0, 0, 0, 0, 0, 0, 0, 0, 0, 0, 0, 0, 0, 0, 0, 0, 0, 0, 0, 0, 0, 0, 0, 0, 0, 0, 0, 0, 0, 0, 0, 0, 0, 0, 0, 0, 0, 0, 0, 0, 0, 0, 0, 0, 0, 0, 0, 0, 0, 0, 0, 0, 0, 0, 0, 0, 0, 0, 0, 0, 0, 0, 0, 0, 0, 0, 0, 0]\n",
      "[(0, 4), (4, 6), (6, 9), (9, 15), (15, 18), (18, 24), (24, 29), (29, 33), (33, 34), (3462, 3466), (3466, 3469), (3469, 3473), (3473, 3478), (3478, 3489), (3489, 3498), (3498, 3503), (3503, 3508), (3508, 3509), (3509, 3513), (3513, 3519), (3519, 3523), (3523, 3532), (3532, 3537), (3537, 3548), (3548, 3552), (3552, 3556), (3556, 3560), (3560, 3565), (3565, 3566), (3566, 3571), (3571, 3577), (3577, 3581), (3581, 3589), (3589, 3595), (3595, 3598), (3598, 3602), (3602, 3607), (3607, 3610), (3610, 3615), (3615, 3617), (3617, 3626), (3626, 3632), (3632, 3633), (3633, 3634), (3634, 3635), (3635, 3636), (3636, 3637), (3637, 3640), (3640, 3645), (3645, 3650), (3650, 3656), (3656, 3658), (3658, 3666), (3666, 3667), (3667, 3673), (3673, 3679), (3679, 3681), (3681, 3682), (3682, 3686), (3686, 3688), (3688, 3695), (3695, 3700), (3700, 3704), (3704, 3709), (3709, 3715), (3715, 3720), (3720, 3724), (3724, 3730), (3730, 3731), (3731, 3735), (3735, 3739), (3739, 3748), (3748, 3752), (3752, 3754), (3754, 3763), (3763, 3769), (3769, 3774), (3774, 3780), (3780, 3784), (3784, 3791), (3791, 3797), (3797, 3798), (3798, 3799), (3799, 3805), (3805, 3808), (3808, 3811), (3811, 3812), (3812, 3813), (3813, 3814), (3814, 3815), (3815, 3816), (3816, 3820), (3820, 3824), (3824, 3828), (3828, 3835), (3835, 3836), (3836, 3841), (3841, 3842), (3842, 3845), (3845, 3849), (3849, 3854), (3854, 3857), (3857, 3858), (3858, 3863), (3863, 3866), (3866, 3870), (3870, 3875), (3875, 3876), (3876, 3881), (3881, 3883), (3883, 3887), (3887, 3894), (3894, 3898), (3898, 3901), (3901, 3907), (3907, 3913), (3913, 3918), (3918, 3922), (3922, 3927), (3927, 3932), (3932, 3933), (3933, 3936), (3936, 3937), (3937, 3945), (3945, 3946), (3946, 3949), (3949, 3952), (3952, 3956), (3956, 3957), (3957, 3960), (3960, 3962), (3962, 3974), (3974, 3976), (3976, 3979), (3979, 3987), (3987, 3990), (3990, 3996), (3996, 4000), (4000, 4006), (4006, 4011), (4011, 4015), (4015, 4020), (4020, 4025), (4025, 4030), (4030, 4032), (0, 0), (0, 0), (0, 0), (0, 0), (0, 0), (0, 0), (0, 0), (0, 0), (0, 0), (0, 0), (0, 0), (0, 0), (0, 0), (0, 0), (0, 0), (0, 0), (0, 0), (0, 0), (0, 0), (0, 0), (0, 0), (0, 0), (0, 0), (0, 0), (0, 0), (0, 0), (0, 0), (0, 0), (0, 0), (0, 0), (0, 0), (0, 0), (0, 0), (0, 0), (0, 0), (0, 0), (0, 0), (0, 0), (0, 0), (0, 0), (0, 0), (0, 0), (0, 0), (0, 0), (0, 0), (0, 0), (0, 0), (0, 0), (0, 0), (0, 0), (0, 0), (0, 0), (0, 0), (0, 0), (0, 0), (0, 0), (0, 0), (0, 0), (0, 0), (0, 0), (0, 0), (0, 0), (0, 0), (0, 0), (0, 0), (0, 0), (0, 0), (0, 0), (0, 0), (0, 0), (0, 0), (0, 0), (0, 0), (0, 0), (0, 0), (0, 0), (0, 0), (0, 0), (0, 0), (0, 0), (0, 0), (0, 0), (0, 0), (0, 0), (0, 0), (0, 0), (0, 0), (0, 0), (0, 0), (0, 0), (0, 0), (0, 0), (0, 0), (0, 0), (0, 0), (0, 0), (0, 0), (0, 0), (0, 0), (0, 0), (0, 0), (0, 0), (0, 0), (0, 0), (0, 0), (0, 0), (0, 0), (0, 0), (0, 0), (0, 0), (0, 0), (0, 0), (0, 0), (0, 0), (0, 0), (0, 0), (0, 0), (0, 0), (0, 0), (0, 0), (0, 0), (0, 0), (0, 0), (0, 0), (0, 0), (0, 0), (0, 0), (0, 0), (0, 0), (0, 0), (0, 0), (0, 0), (0, 0), (0, 0), (0, 0), (0, 0), (0, 0), (0, 0), (0, 0), (0, 0), (0, 0), (0, 0), (0, 0), (0, 0), (0, 0), (0, 0), (0, 0), (0, 0), (0, 0), (0, 0), (0, 0), (0, 0), (0, 0), (0, 0), (0, 0), (0, 0), (0, 0), (0, 0), (0, 0), (0, 0), (0, 0), (0, 0), (0, 0), (0, 0), (0, 0), (0, 0), (0, 0), (0, 0), (0, 0), (0, 0), (0, 0), (0, 0), (0, 0), (0, 0), (0, 0), (0, 0), (0, 0), (0, 0), (0, 0), (0, 0), (0, 0), (0, 0), (0, 0), (0, 0), (0, 0), (0, 0), (0, 0), (0, 0), (0, 0), (0, 0), (0, 0), (0, 0), (0, 0), (0, 0), (0, 0), (0, 0), (0, 0), (0, 0), (0, 0), (0, 0), (0, 0), (0, 0), (0, 0), (0, 0), (0, 0), (0, 0), (0, 0), (0, 0), (0, 0), (0, 0), (0, 0), (0, 0), (0, 0), (0, 0), (0, 0), (0, 0), (0, 0), (0, 0), (0, 0), (0, 0), (0, 0), (0, 0), (0, 0), (0, 0), (0, 0), (0, 0), (0, 0), (0, 0), (0, 0), (0, 0), (0, 0), (0, 0), (0, 0), (0, 0), (0, 0), (0, 0), (0, 0), (0, 0), (0, 0), (0, 0), (0, 0), (0, 0), (0, 0), (0, 0), (0, 0), (0, 0), (0, 0), (0, 0), (0, 0), (0, 0), (0, 0), (0, 0), (0, 0), (0, 0), (0, 0), (0, 0), (0, 0), (0, 0), (0, 0), (0, 0), (0, 0), (0, 0), (0, 0), (0, 0), (0, 0), (0, 0), (0, 0), (0, 0), (0, 0), (0, 0), (0, 0), (0, 0), (0, 0), (0, 0), (0, 0), (0, 0), (0, 0), (0, 0), (0, 0), (0, 0), (0, 0), (0, 0), (0, 0), (0, 0), (0, 0), (0, 0), (0, 0), (0, 0), (0, 0), (0, 0), (0, 0), (0, 0), (0, 0), (0, 0), (0, 0), (0, 0), (0, 0), (0, 0), (0, 0), (0, 0), (0, 0), (0, 0), (0, 0), (0, 0), (0, 0), (0, 0), (0, 0), (0, 0), (0, 0), (0, 0), (0, 0), (0, 0), (0, 0), (0, 0), (0, 0), (0, 0), (0, 0), (0, 0), (0, 0), (0, 0), (0, 0), (0, 0), (0, 0), (0, 0), (0, 0), (0, 0), (0, 0), (0, 0), (0, 0), (0, 0), (0, 0), (0, 0), (0, 0), (0, 0), (0, 0), (0, 0), (0, 0), (0, 0), (0, 0), (0, 0), (0, 0), (0, 0), (0, 0), (0, 0), (0, 0), (0, 0), (0, 0), (0, 0), (0, 0), (0, 0), (0, 0), (0, 0), (0, 0), (0, 0), (0, 0), (0, 0), (0, 0), (0, 0), (0, 0), (0, 0), (0, 0), (0, 0), (0, 0), (0, 0), (0, 0), (0, 0), (0, 0), (0, 0), (0, 0), (0, 0), (0, 0), (0, 0), (0, 0), (0, 0), (0, 0), (0, 0), (0, 0), (0, 0), (0, 0), (0, 0), (0, 0), (0, 0), (0, 0), (0, 0), (0, 0), (0, 0), (0, 0), (0, 0), (0, 0), (0, 0), (0, 0), (0, 0), (0, 0), (0, 0), (0, 0), (0, 0), (0, 0), (0, 0), (0, 0), (0, 0), (0, 0), (0, 0), (0, 0), (0, 0), (0, 0), (0, 0), (0, 0), (0, 0), (0, 0), (0, 0), (0, 0), (0, 0), (0, 0), (0, 0), (0, 0), (0, 0), (0, 0), (0, 0), (0, 0), (0, 0), (0, 0), (0, 0), (0, 0), (0, 0), (0, 0), (0, 0), (0, 0), (0, 0), (0, 0), (0, 0), (0, 0), (0, 0), (0, 0), (0, 0), (0, 0), (0, 0), (0, 0), (0, 0), (0, 0), (0, 0), (0, 0), (0, 0), (0, 0), (0, 0), (0, 0), (0, 0), (0, 0), (0, 0), (0, 0), (0, 0), (0, 0), (0, 0), (0, 0), (0, 0), (0, 0), (0, 0), (0, 0), (0, 0), (0, 0), (0, 0), (0, 0), (0, 0), (0, 0), (0, 0), (0, 0), (0, 0), (0, 0), (0, 0), (0, 0), (0, 0), (0, 0), (0, 0), (0, 0), (0, 0), (0, 0), (0, 0), (0, 0), (0, 0), (0, 0), (0, 0), (0, 0), (0, 0), (0, 0), (0, 0), (0, 0), (0, 0), (0, 0), (0, 0), (0, 0), (0, 0), (0, 0), (0, 0), (0, 0), (0, 0), (0, 0), (0, 0), (0, 0), (0, 0), (0, 0), (0, 0), (0, 0), (0, 0), (0, 0), (0, 0), (0, 0), (0, 0), (0, 0), (0, 0), (0, 0), (0, 0), (0, 0), (0, 0), (0, 0), (0, 0), (0, 0), (0, 0), (0, 0), (0, 0), (0, 0), (0, 0), (0, 0), (0, 0), (0, 0), (0, 0), (0, 0), (0, 0), (0, 0), (0, 0), (0, 0), (0, 0), (0, 0), (0, 0), (0, 0), (0, 0), (0, 0), (0, 0), (0, 0), (0, 0), (0, 0), (0, 0), (0, 0), (0, 0), (0, 0), (0, 0), (0, 0), (0, 0), (0, 0), (0, 0), (0, 0), (0, 0), (0, 0), (0, 0), (0, 0), (0, 0), (0, 0), (0, 0), (0, 0), (0, 0), (0, 0), (0, 0), (0, 0), (0, 0), (0, 0), (0, 0), (0, 0), (0, 0), (0, 0), (0, 0), (0, 0), (0, 0), (0, 0), (0, 0), (0, 0), (0, 0), (0, 0), (0, 0), (0, 0), (0, 0), (0, 0), (0, 0), (0, 0), (0, 0), (0, 0), (0, 0), (0, 0), (0, 0), (0, 0), (0, 0), (0, 0), (0, 0), (0, 0), (0, 0), (0, 0), (0, 0), (0, 0), (0, 0), (0, 0), (0, 0), (0, 0), (0, 0), (0, 0), (0, 0), (0, 0), (0, 0), (0, 0), (0, 0), (0, 0), (0, 0), (0, 0), (0, 0), (0, 0), (0, 0), (0, 0), (0, 0), (0, 0), (0, 0), (0, 0), (0, 0), (0, 0), (0, 0), (0, 0), (0, 0), (0, 0), (0, 0), (0, 0), (0, 0), (0, 0), (0, 0), (0, 0), (0, 0), (0, 0), (0, 0), (0, 0), (0, 0), (0, 0), (0, 0), (0, 0), (0, 0), (0, 0), (0, 0), (0, 0), (0, 0), (0, 0), (0, 0), (0, 0), (0, 0), (0, 0), (0, 0), (0, 0), (0, 0), (0, 0), (0, 0), (0, 0), (0, 0), (0, 0), (0, 0), (0, 0), (0, 0), (0, 0), (0, 0), (0, 0), (0, 0), (0, 0), (0, 0), (0, 0), (0, 0), (0, 0), (0, 0), (0, 0), (0, 0), (0, 0), (0, 0), (0, 0), (0, 0), (0, 0), (0, 0), (0, 0), (0, 0), (0, 0), (0, 0), (0, 0), (0, 0), (0, 0), (0, 0), (0, 0), (0, 0), (0, 0), (0, 0), (0, 0), (0, 0), (0, 0), (0, 0), (0, 0), (0, 0), (0, 0), (0, 0), (0, 0), (0, 0), (0, 0), (0, 0), (0, 0), (0, 0), (0, 0), (0, 0), (0, 0), (0, 0), (0, 0), (0, 0), (0, 0), (0, 0), (0, 0), (0, 0), (0, 0), (0, 0), (0, 0), (0, 0), (0, 0), (0, 0), (0, 0), (0, 0), (0, 0), (0, 0), (0, 0), (0, 0), (0, 0), (0, 0), (0, 0), (0, 0), (0, 0), (0, 0), (0, 0), (0, 0), (0, 0), (0, 0), (0, 0), (0, 0), (0, 0), (0, 0), (0, 0), (0, 0), (0, 0), (0, 0), (0, 0), (0, 0), (0, 0), (0, 0), (0, 0), (0, 0), (0, 0), (0, 0), (0, 0), (0, 0), (0, 0), (0, 0), (0, 0), (0, 0), (0, 0), (0, 0), (0, 0), (0, 0), (0, 0), (0, 0), (0, 0), (0, 0), (0, 0), (0, 0), (0, 0), (0, 0), (0, 0), (0, 0), (0, 0), (0, 0), (0, 0), (0, 0), (0, 0), (0, 0), (0, 0), (0, 0), (0, 0), (0, 0), (0, 0), (0, 0), (0, 0), (0, 0), (0, 0), (0, 0), (0, 0), (0, 0), (0, 0), (0, 0), (0, 0), (0, 0), (0, 0), (0, 0), (0, 0), (0, 0), (0, 0), (0, 0), (0, 0), (0, 0), (0, 0), (0, 0), (0, 0), (0, 0), (0, 0), (0, 0), (0, 0), (0, 0), (0, 0), (0, 0), (0, 0), (0, 0), (0, 0), (0, 0), (0, 0), (0, 0), (0, 0), (0, 0), (0, 0), (0, 0), (0, 0), (0, 0), (0, 0), (0, 0), (0, 0), (0, 0), (0, 0), (0, 0), (0, 0), (0, 0), (0, 0), (0, 0), (0, 0), (0, 0), (0, 0), (0, 0), (0, 0), (0, 0), (0, 0), (0, 0), (0, 0), (0, 0), (0, 0), (0, 0), (0, 0), (0, 0), (0, 0), (0, 0), (0, 0), (0, 0), (0, 0), (0, 0), (0, 0), (0, 0), (0, 0), (0, 0), (0, 0), (0, 0), (0, 0), (0, 0), (0, 0), (0, 0), (0, 0), (0, 0), (0, 0), (0, 0), (0, 0), (0, 0), (0, 0), (0, 0), (0, 0), (0, 0), (0, 0), (0, 0), (0, 0)]\n",
      "[0, 0]\n"
     ]
    }
   ],
   "source": [
    "tokenized_example = tokenizer(\n",
    "    example[\"question\"],\n",
    "    example[\"context\"],\n",
    "    max_length=max_length,\n",
    "    truncation='only_second',\n",
    "    return_overflowing_tokens=True,\n",
    "    return_offsets_mapping=True,\n",
    "    stride=doc_stride\n",
    ")\n",
    "print(tokenized_example.keys())\n",
    "print()\n",
    "print(tokenizer.decode(tokenized_example[\"input_ids\"][1]))\n",
    "print(tokenized_example[\"input_ids\"][1])\n",
    "print(tokenized_example[\"attention_mask\"][1])\n",
    "print(tokenized_example[\"offset_mapping\"][1])\n",
    "print(tokenized_example[\"overflow_to_sample_mapping\"])"
   ]
  },
  {
   "cell_type": "code",
   "execution_count": 100,
   "metadata": {
    "id": "pStXCzD0VOJZ",
    "outputId": "85b86128-ada9-432e-b53d-7a3bae45fd45"
   },
   "outputs": [
    {
     "name": "stdout",
     "output_type": "stream",
     "text": [
      "What What\n"
     ]
    }
   ],
   "source": [
    "first_token_id = tokenized_example[\"input_ids\"][0][0]\n",
    "offsets = tokenized_example[\"offset_mapping\"][0][0]\n",
    "print(tokenizer.convert_ids_to_tokens([first_token_id])[0], example[\"question\"][offsets[0]:offsets[1]])"
   ]
  },
  {
   "cell_type": "markdown",
   "metadata": {
    "id": "iqJ9qjBLVOJZ"
   },
   "source": [
    "So we can use this mapping to find the position of the start and end tokens of our answer in a given feature. We just have to distinguish which parts of the offsets correspond to the question and which part correspond to the context, this is where the `sequence_ids` method of our `tokenized_example` can be useful:"
   ]
  },
  {
   "cell_type": "code",
   "execution_count": 101,
   "metadata": {
    "id": "05D5Ol0aVOJZ",
    "outputId": "d216231f-346b-4283-8b19-d30486856e9a"
   },
   "outputs": [
    {
     "name": "stdout",
     "output_type": "stream",
     "text": [
      "[0, 0, 0, 0, 0, 0, 0, 0, 0, 1, 1, 1, 1, 1, 1, 1, 1, 1, 1, 1, 1, 1, 1, 1, 1, 1, 1, 1, 1, 1, 1, 1, 1, 1, 1, 1, 1, 1, 1, 1, 1, 1, 1, 1, 1, 1, 1, 1, 1, 1, 1, 1, 1, 1, 1, 1, 1, 1, 1, 1, 1, 1, 1, 1, 1, 1, 1, 1, 1, 1, 1, 1, 1, 1, 1, 1, 1, 1, 1, 1, 1, 1, 1, 1, 1, 1, 1, 1, 1, 1, 1, 1, 1, 1, 1, 1, 1, 1, 1, 1, 1, 1, 1, 1, 1, 1, 1, 1, 1, 1, 1, 1, 1, 1, 1, 1, 1, 1, 1, 1, 1, 1, 1, 1, 1, 1, 1, 1, 1, 1, 1, 1, 1, 1, 1, 1, 1, 1, 1, 1, 1, 1, 1, 1, 1, 1, 1, 1, 1, 1, 1, 1, 1, 1, 1, 1, 1, 1, 1, 1, 1, 1, 1, 1, 1, 1, 1, 1, 1, 1, 1, 1, 1, 1, 1, 1, 1, 1, 1, 1, 1, 1, 1, 1, 1, 1, 1, 1, 1, 1, 1, 1, 1, 1, 1, 1, 1, 1, 1, 1, 1, 1, 1, 1, 1, 1, 1, 1, 1, 1, 1, 1, 1, 1, 1, 1, 1, 1, 1, 1, 1, 1, 1, 1, 1, 1, 1, 1, 1, 1, 1, 1, 1, 1, 1, 1, 1, 1, 1, 1, 1, 1, 1, 1, 1, 1, 1, 1, 1, 1, 1, 1, 1, 1, 1, 1, 1, 1, 1, 1, 1, 1, 1, 1, 1, 1, 1, 1, 1, 1, 1, 1, 1, 1, 1, 1, 1, 1, 1, 1, 1, 1, 1, 1, 1, 1, 1, 1, 1, 1, 1, 1, 1, 1, 1, 1, 1, 1, 1, 1, 1, 1, 1, 1, 1, 1, 1, 1, 1, 1, 1, 1, 1, 1, 1, 1, 1, 1, 1, 1, 1, 1, 1, 1, 1, 1, 1, 1, 1, 1, 1, 1, 1, 1, 1, 1, 1, 1, 1, 1, 1, 1, 1, 1, 1, 1, 1, 1, 1, 1, 1, 1, 1, 1, 1, 1, 1, 1, 1, 1, 1, 1, 1, 1, 1, 1, 1, 1, 1, 1, 1, 1, 1, 1, 1, 1, 1, 1, 1, 1, 1, 1, 1, 1, 1, 1, 1, 1, 1, 1, 1, 1, 1, 1, 1, 1, 1, 1, 1, 1, 1, 1, 1, 1, 1, 1, 1, 1, 1, 1, 1, 1, 1, 1, 1, 1, 1, 1, 1, 1, 1, 1, 1, 1, 1, 1, 1, 1, 1, 1, 1, 1, 1, 1, 1, 1, 1, 1, 1, 1, 1, 1, 1, 1, 1, 1, 1, 1, 1, 1, 1, 1, 1, 1, 1, 1, 1, 1, 1, 1, 1, 1, 1, 1, 1, 1, 1, 1, 1, 1, 1, 1, 1, 1, 1, 1, 1, 1, 1, 1, 1, 1, 1, 1, 1, 1, 1, 1, 1, 1, 1, 1, 1, 1, 1, 1, 1, 1, 1, 1, 1, 1, 1, 1, 1, 1, 1, 1, 1, 1, 1, 1, 1, 1, 1, 1, 1, 1, 1, 1, 1, 1, 1, 1, 1, 1, 1, 1, 1, 1, 1, 1, 1, 1, 1, 1, 1, 1, 1, 1, 1, 1, 1, 1, 1, 1, 1, 1, 1, 1, 1, 1, 1, 1, 1, 1, 1, 1, 1, 1, 1, 1, 1, 1, 1, 1, 1, 1, 1, 1, 1, 1, 1, 1, 1, 1, 1, 1, 1, 1, 1, 1, 1, 1, 1, 1, 1, 1, 1, 1, 1, 1, 1, 1, 1, 1, 1, 1, 1, 1, 1, 1, 1, 1, 1, 1, 1, 1, 1, 1, 1, 1, 1, 1, 1, 1, 1, 1, 1, 1, 1, 1, 1, 1, 1, 1, 1, 1, 1, 1, 1, 1, 1, 1, 1, 1, 1, 1, 1, 1, 1, 1, 1, 1, 1, 1, 1, 1, 1, 1, 1, 1, 1, 1, 1, 1, 1, 1, 1, 1, 1, 1, 1, 1, 1, 1, 1, 1, 1, 1, 1, 1, 1, 1, 1, 1, 1, 1, 1, 1, 1, 1, 1, 1, 1, 1, 1, 1, 1, 1, 1, 1, 1, 1, 1, 1, 1, 1, 1, 1, 1, 1, 1, 1, 1, 1, 1, 1, 1, 1, 1, 1, 1, 1, 1, 1, 1, 1, 1, 1, 1, 1, 1, 1, 1, 1, 1, 1, 1, 1, 1, 1, 1, 1, 1, 1, 1, 1, 1, 1, 1, 1, 1, 1, 1, 1, 1, 1, 1, 1, 1, 1, 1, 1, 1, 1, 1, 1, 1, 1, 1, 1, 1, 1, 1, 1, 1, 1, 1, 1, 1, 1, 1, 1, 1, 1, 1, 1, 1, 1, 1, 1, 1, 1, 1, 1, 1, 1, 1, 1, 1, 1, 1, 1, 1, 1, 1, 1, 1, 1, 1, 1, 1, 1, 1, 1, 1, 1, 1, 1, 1, 1, 1, 1, 1, 1, 1, 1, 1, 1, 1, 1, 1, 1, 1, 1, 1, 1, 1, 1, 1, 1, 1, 1, 1, 1, 1, 1, 1, 1, 1, 1, 1, 1, 1, 1, 1, 1, 1, 1, 1, 1, 1, 1, 1, 1, 1, 1, 1, 1, 1, 1, 1, 1, 1, 1, 1, 1, 1, 1, 1, 1, 1, 1, 1, 1, 1, 1, 1, 1, 1, 1, 1, 1, 1, 1, 1, 1, 1, 1, 1, 1, 1, 1, 1, 1, 1, 1, 1, 1, 1, 1, 1, 1, 1, 1, 1, 1, 1, 1, 1, 1, 1, 1, 1, 1, 1, 1, 1, 1, 1, 1, 1, 1, 1, 1, 1, 1, 1, 1, 1, 1, 1, 1, 1, 1, 1, 1, 1, 1, 1, 1, 1, 1, 1, 1, 1, 1, 1, 1, 1, 1, 1, 1, 1, 1, 1, 1, 1, 1, 1, 1, 1, 1, 1, 1, 1, 1, 1, 1, 1, 1, 1, 1, 1, 1, 1, 1, 1, 1, 1, 1, 1, 1, 1, 1, 1, 1, 1, 1, 1, 1, 1, 1, 1, 1, 1, 1, 1, 1, 1, 1, 1, 1, 1, 1, 1, 1, 1, 1, 1, 1, 1, 1, 1, 1, 1, 1, 1, 1]\n"
     ]
    }
   ],
   "source": [
    "sequence_ids = tokenized_example.sequence_ids()\n",
    "print(sequence_ids)"
   ]
  },
  {
   "cell_type": "markdown",
   "metadata": {
    "id": "2SrVWNOgVOJa"
   },
   "source": [
    "It returns `None` for the special tokens, then 0 or 1 depending on whether the corresponding token comes from the first sentence past (the question) or the second (the context). Now with all of this, we can find the first and last token of the answer in one of our input feature (or if the answer is not in this feature):"
   ]
  },
  {
   "cell_type": "code",
   "execution_count": 102,
   "metadata": {
    "id": "-NaFqXQcVOJa",
    "outputId": "35c6cfd6-242e-4ea1-d5c9-282887a38e89"
   },
   "outputs": [
    {
     "name": "stdout",
     "output_type": "stream",
     "text": [
      "274 280\n"
     ]
    }
   ],
   "source": [
    "answers = example[\"answer_span\"]\n",
    "start_char = answers[0]\n",
    "end_char = answers[1]\n",
    "\n",
    "# Start token index of the current span in the text.\n",
    "token_start_index = 0\n",
    "while sequence_ids[token_start_index] != 1:\n",
    "    token_start_index += 1\n",
    "\n",
    "# End token index of the current span in the text.\n",
    "token_end_index = len(tokenized_example[\"input_ids\"][0]) - 1\n",
    "while sequence_ids[token_end_index] != 1:\n",
    "    token_end_index -= 1\n",
    "\n",
    "# Detect if the answer is out of the span (in which case this feature is labeled with the CLS index).\n",
    "offsets = tokenized_example[\"offset_mapping\"][0]\n",
    "if (offsets[token_start_index][0] <= start_char and offsets[token_end_index][1] >= end_char):\n",
    "    # Move the token_start_index and token_end_index to the two ends of the answer.\n",
    "    # Note: we could go after the last offset if the answer is the last word (edge case).\n",
    "    while token_start_index < len(offsets) and offsets[token_start_index][0] <= start_char:\n",
    "        token_start_index += 1\n",
    "    start_position = token_start_index - 1\n",
    "    while offsets[token_end_index][1] >= end_char:\n",
    "        token_end_index -= 1\n",
    "    end_position = token_end_index + 1\n",
    "    print(start_position, end_position)\n",
    "else:\n",
    "    print(\"The answer is not in this feature.\")"
   ]
  },
  {
   "cell_type": "markdown",
   "metadata": {
    "id": "6sVdU-PZVOJa"
   },
   "source": [
    "And we can double check that it is indeed the theoretical answer:"
   ]
  },
  {
   "cell_type": "code",
   "execution_count": 69,
   "metadata": {
    "id": "K3yYf_ikVOJa",
    "outputId": "82add097-f177-41d1-be29-4098a7614f82"
   },
   "outputs": [
    {
     "name": "stdout",
     "output_type": "stream",
     "text": [
      "Some day I will paint a masterpiece\n",
      "Some day I will paint a masterpiece\n"
     ]
    }
   ],
   "source": [
    "print(tokenizer.decode(tokenized_example[\"input_ids\"][0][start_position: end_position+1]))\n",
    "print(example[\"answer\"])"
   ]
  },
  {
   "cell_type": "markdown",
   "metadata": {
    "id": "G1smjEsiVOJa"
   },
   "source": [
    "For this notebook to work with any kind of models, we need to account for the special case where the model expects padding on the left (in which case we switch the order of the question and the context):"
   ]
  },
  {
   "cell_type": "markdown",
   "metadata": {
    "id": "d2fx9NbFVOJb"
   },
   "source": [
    "Now let's put everything together in one function we will apply to our training set. In the case of impossible answers (the answer is in another feature given by an example with a long context), we set the cls index for both the start and end position. We could also simply discard those examples from the training set if the flag `allow_impossible_answers` is `False`. Since the preprocessing is already complex enough as it is, we've kept is simple for this part."
   ]
  },
  {
   "cell_type": "code",
   "execution_count": 151,
   "metadata": {
    "id": "GKNEbdCOVOJb"
   },
   "outputs": [],
   "source": [
    "def prepare_train_features(dataset):\n",
    "    # Some of the questions have lots of whitespace on the left, which is not useful and will make the\n",
    "    # truncation of the context fail (the tokenized question will take a lots of space). So we remove that\n",
    "    # left whitespace\n",
    "#     examples[\"question\"] = [q.lstrip() for q in examples[\"question\"]]\n",
    "\n",
    "    # Tokenize our examples with truncation and padding, but keep the overflows using a stride. This results\n",
    "    # in one example possible giving several features when a context is long, each of those features having a\n",
    "    # context that overlaps a bit the context of the previous feature.\n",
    "    \n",
    "    eos_id = tokenizer.eos_token_id\n",
    "    tokenized_examples = {\"input_ids\":list(),\"attention_mask\":list(),\"token_type_ids\":list(),\"start_labels\":list(),\"end_labels\":list()}\n",
    "    \n",
    "    for example in dataset:\n",
    "        \n",
    "        tokenized_example = tokenizer(\n",
    "            example[\"question\"],\n",
    "            example[\"context\"],\n",
    "            max_length=max_length,\n",
    "            truncation='only_second',\n",
    "            return_overflowing_tokens=True,\n",
    "            return_offsets_mapping=True,\n",
    "            stride=doc_stride,\n",
    "            padding=\"max_length\",\n",
    "        )\n",
    "\n",
    "        # The offset mappings will give us a map from token to character position in the original context. This will\n",
    "        # help us compute the start_positions and end_positions.\n",
    "        offset_mapping = tokenized_example.pop(\"offset_mapping\")\n",
    "\n",
    "        for i, offsets in enumerate(offset_mapping):\n",
    "            \n",
    "            sequence_ids = tokenized_example.sequence_ids(i)\n",
    "            \n",
    "            # Add en eos token in the middle.\n",
    "            \n",
    "            eos_index = 0\n",
    "            while sequence_ids[eos_index] != 1:\n",
    "                eos_index += 1\n",
    "                \n",
    "            input_ids = tokenized_example['input_ids'][i][:eos_index] + [eos_id] + tokenized_example['input_ids'][i][eos_index:]\n",
    "            attention_mask = tokenized_example['attention_mask'][i][:eos_index] + [1] + tokenized_example['attention_mask'][i][eos_index:]\n",
    "            sequence_ids = sequence_ids[:eos_index] + [1] + sequence_ids[eos_index:]\n",
    "            offsets = offsets[:eos_index] + [(-1,-1)] + offsets[eos_index:]\n",
    "            \n",
    "            \n",
    "            tokenized_examples[\"input_ids\"].append(input_ids)\n",
    "            tokenized_examples[\"attention_mask\"].append(attention_mask)\n",
    "            tokenized_examples[\"token_type_ids\"].append([id if id is not None else 1 for id in sequence_ids])\n",
    "            \n",
    "            # We will label impossible answers with the index of the eos token.\n",
    "\n",
    "            assert eos_index == input_ids.index(eos_id)\n",
    "\n",
    "            answer_span = example[\"answer_span\"]\n",
    "            # If no answers are given, set the cls_index as answer.\n",
    "            if answers[0] == -1:\n",
    "    #             raise Exception(\"The answer span does not exist.\")\n",
    "                tokenized_examples[\"start_labels\"].append(eos_index)\n",
    "                tokenized_examples[\"end_labels\"].append(eos_index)\n",
    "            else:\n",
    "                # Start/end character index of the answer in the text.\n",
    "                start_char = answer_span[0]\n",
    "                end_char = answer_span[1]\n",
    "\n",
    "                # Start token index of the current span in the text.\n",
    "                token_start_index = eos_index + 1\n",
    "\n",
    "                # End token index of the current span in the text.\n",
    "                token_end_index = len(input_ids) - 1\n",
    "                while sequence_ids[token_end_index] != 1:\n",
    "                    token_end_index -= 1\n",
    "\n",
    "                # Detect if the answer is out of the span (in which case this feature is labeled with the eos index).\n",
    "                if not (offsets[token_start_index][0] <= start_char and offsets[token_end_index][1] >= end_char):\n",
    "    #                 raise Exception(\"The answer span does not fall in the context.\")\n",
    "                    tokenized_examples[\"start_labels\"].append(eos_index)\n",
    "                    tokenized_examples[\"end_labels\"].append(eos_index)\n",
    "                else:\n",
    "                    # Otherwise move the token_start_index and token_end_index to the two ends of the answer.\n",
    "                    # Note: we could go after the last offset if the answer is the last word (edge case).\n",
    "                    while token_start_index < len(offsets) and offsets[token_start_index][0] <= start_char:\n",
    "                        token_start_index += 1\n",
    "                    tokenized_examples[\"start_labels\"].append(token_start_index - 1)\n",
    "                    while offsets[token_end_index][1] >= end_char:\n",
    "                        token_end_index -= 1\n",
    "                    tokenized_examples[\"end_labels\"].append(token_end_index + 1)\n",
    "\n",
    "    return tokenized_examples"
   ]
  },
  {
   "cell_type": "markdown",
   "metadata": {
    "id": "0lm8ozrJIrJR"
   },
   "source": [
    "This function works with one or several examples. In the case of several examples, the tokenizer will return a list of lists for each key:"
   ]
  },
  {
   "cell_type": "code",
   "execution_count": 164,
   "metadata": {
    "id": "-b70jh26IrJS"
   },
   "outputs": [],
   "source": [
    "example = train_dataset[10668:10669]\n",
    "features = prepare_train_features(example)\n",
    "start_label = features['start_labels'][0]\n",
    "end_label = features['end_labels'][0]"
   ]
  },
  {
   "cell_type": "code",
   "execution_count": 165,
   "metadata": {},
   "outputs": [
    {
     "name": "stdout",
     "output_type": "stream",
     "text": [
      "dict_keys(['input_ids', 'attention_mask', 'token_type_ids', 'start_labels', 'end_labels'])\n",
      "[88, 7]\n",
      "[89, 7]\n"
     ]
    }
   ],
   "source": [
    "print(features.keys())\n",
    "print(features['start_labels'])\n",
    "print(features['end_labels'])\n",
    "# print(features['input_ids'])\n",
    "# print(features['attention_mask'][1])\n",
    "# print(features['token_type_ids'][1])"
   ]
  },
  {
   "cell_type": "code",
   "execution_count": 168,
   "metadata": {},
   "outputs": [
    {
     "name": "stdout",
     "output_type": "stream",
     "text": [
      "Miss White\n",
      "Miss White\n"
     ]
    }
   ],
   "source": [
    "print(tokenizer.decode(features[\"input_ids\"][0][start_label:end_label+1]))\n",
    "print(example[0][\"answer\"])"
   ]
  },
  {
   "cell_type": "markdown",
   "metadata": {
    "id": "zS-6iXTkIrJT"
   },
   "source": [
    "To apply this function on all the sentences (or pairs of sentences) in our dataset, we just use the `map` method of our `dataset` object we created earlier. This will apply the function on all the elements of all the splits in `dataset`, so our training, validation and testing data will be preprocessed in one single command. Since our preprocessing changes the number of samples, we need to remove the old columns when applying it."
   ]
  },
  {
   "cell_type": "code",
   "execution_count": 245,
   "metadata": {
    "id": "DDtsaJeVIrJT",
    "outputId": "aa4734bf-4ef5-4437-9948-2c16363da719"
   },
   "outputs": [],
   "source": [
    "# tokenized_datasets = datasets.map(prepare_train_features, batched=True, remove_columns=datasets[\"train\"].column_names)\n",
    "# tokenized_train_dataset = prepare_train_features(train_dataset)\n",
    "tokenized_train_dataset = prepare_train_features(dev_dataset)\n",
    "tokenized_dev_dataset = prepare_train_features(dev_dataset)"
   ]
  },
  {
   "cell_type": "markdown",
   "metadata": {
    "id": "voWiw8C7IrJV"
   },
   "source": [
    "Even better, the results are automatically cached by the 🤗 Datasets library to avoid spending time on this step the next time you run your notebook. The 🤗 Datasets library is normally smart enough to detect when the function you pass to map has changed (and thus requires to not use the cache data). For instance, it will properly detect if you change the task in the first cell and rerun the notebook. 🤗 Datasets warns you when it uses cached files, you can pass `load_from_cache_file=False` in the call to `map` to not use the cached files and force the preprocessing to be applied again.\n",
    "\n",
    "Note that we passed `batched=True` to encode the texts by batches together. This is to leverage the full benefit of the fast tokenizer we loaded earlier, which will use multi-threading to treat the texts in a batch concurrently."
   ]
  },
  {
   "cell_type": "markdown",
   "metadata": {
    "id": "545PP3o8IrJV"
   },
   "source": [
    "## Fine-tuning the model"
   ]
  },
  {
   "cell_type": "markdown",
   "metadata": {
    "id": "FBiW8UpKIrJW"
   },
   "source": [
    "Now that our data is ready for training, we can download the pretrained model and fine-tune it. Since our task is question answering, we use the `AutoModelForQuestionAnswering` class. Like with the tokenizer, the `from_pretrained` method will download and cache the model for us:"
   ]
  },
  {
   "cell_type": "code",
   "execution_count": 228,
   "metadata": {
    "id": "TlqNaB8jIrJW",
    "outputId": "84916cf3-6e6c-47f3-d081-032ec30a4132"
   },
   "outputs": [
    {
     "name": "stderr",
     "output_type": "stream",
     "text": [
      "loading configuration file config.json from cache at /home/yujie/.cache/huggingface/hub/models--gpt2/snapshots/909a290700bd99135e67c64eefc166960b67cfd2/config.json\n",
      "Model config GPT2Config {\n",
      "  \"_name_or_path\": \"gpt2\",\n",
      "  \"activation_function\": \"gelu_new\",\n",
      "  \"architectures\": [\n",
      "    \"GPT2LMHeadModel\"\n",
      "  ],\n",
      "  \"attn_pdrop\": 0.1,\n",
      "  \"bos_token_id\": 50256,\n",
      "  \"embd_pdrop\": 0.1,\n",
      "  \"eos_token_id\": 50256,\n",
      "  \"initializer_range\": 0.02,\n",
      "  \"layer_norm_epsilon\": 1e-05,\n",
      "  \"model_type\": \"gpt2\",\n",
      "  \"n_ctx\": 1024,\n",
      "  \"n_embd\": 768,\n",
      "  \"n_head\": 12,\n",
      "  \"n_inner\": null,\n",
      "  \"n_layer\": 12,\n",
      "  \"n_positions\": 1024,\n",
      "  \"reorder_and_upcast_attn\": false,\n",
      "  \"resid_pdrop\": 0.1,\n",
      "  \"scale_attn_by_inverse_layer_idx\": false,\n",
      "  \"scale_attn_weights\": true,\n",
      "  \"summary_activation\": null,\n",
      "  \"summary_first_dropout\": 0.1,\n",
      "  \"summary_proj_to_labels\": true,\n",
      "  \"summary_type\": \"cls_index\",\n",
      "  \"summary_use_proj\": true,\n",
      "  \"task_specific_params\": {\n",
      "    \"text-generation\": {\n",
      "      \"do_sample\": true,\n",
      "      \"max_length\": 50\n",
      "    }\n",
      "  },\n",
      "  \"transformers_version\": \"4.23.0.dev0\",\n",
      "  \"use_cache\": true,\n",
      "  \"vocab_size\": 50257\n",
      "}\n",
      "\n",
      "loading configuration file config.json from cache at /home/yujie/.cache/huggingface/hub/models--gpt2/snapshots/909a290700bd99135e67c64eefc166960b67cfd2/config.json\n",
      "Model config GPT2Config {\n",
      "  \"_name_or_path\": \"gpt2\",\n",
      "  \"activation_function\": \"gelu_new\",\n",
      "  \"architectures\": [\n",
      "    \"GPT2LMHeadModel\"\n",
      "  ],\n",
      "  \"attn_pdrop\": 0.1,\n",
      "  \"bos_token_id\": 50256,\n",
      "  \"embd_pdrop\": 0.1,\n",
      "  \"eos_token_id\": 50256,\n",
      "  \"initializer_range\": 0.02,\n",
      "  \"layer_norm_epsilon\": 1e-05,\n",
      "  \"model_type\": \"gpt2\",\n",
      "  \"n_ctx\": 1024,\n",
      "  \"n_embd\": 768,\n",
      "  \"n_head\": 12,\n",
      "  \"n_inner\": null,\n",
      "  \"n_layer\": 12,\n",
      "  \"n_positions\": 1024,\n",
      "  \"reorder_and_upcast_attn\": false,\n",
      "  \"resid_pdrop\": 0.1,\n",
      "  \"scale_attn_by_inverse_layer_idx\": false,\n",
      "  \"scale_attn_weights\": true,\n",
      "  \"summary_activation\": null,\n",
      "  \"summary_first_dropout\": 0.1,\n",
      "  \"summary_proj_to_labels\": true,\n",
      "  \"summary_type\": \"cls_index\",\n",
      "  \"summary_use_proj\": true,\n",
      "  \"task_specific_params\": {\n",
      "    \"text-generation\": {\n",
      "      \"do_sample\": true,\n",
      "      \"max_length\": 50\n",
      "    }\n",
      "  },\n",
      "  \"transformers_version\": \"4.23.0.dev0\",\n",
      "  \"use_cache\": true,\n",
      "  \"vocab_size\": 50257\n",
      "}\n",
      "\n",
      "loading weights file pytorch_model.bin from cache at /home/yujie/.cache/huggingface/hub/models--gpt2/snapshots/909a290700bd99135e67c64eefc166960b67cfd2/pytorch_model.bin\n",
      "All model checkpoint weights were used when initializing GPT2Model.\n",
      "\n",
      "All the weights of GPT2Model were initialized from the model checkpoint at gpt2.\n",
      "If your task is similar to the task the model of the checkpoint was trained on, you can already use GPT2Model for predictions without further training.\n"
     ]
    }
   ],
   "source": [
    "from transformers import AutoModel, AutoConfig, TrainingArguments, Trainer\n",
    "from GPT2forQA import *\n",
    "\n",
    "config = AutoConfig.from_pretrained(\"gpt2\")\n",
    "model = GPT2forQA(config)\n",
    "model.transformer = AutoModel.from_pretrained(\"gpt2\")\n",
    "\n",
    "for param in model.transformer.parameters():\n",
    "    param.requires_grad = False"
   ]
  },
  {
   "cell_type": "markdown",
   "metadata": {
    "id": "CczA5lJlIrJX"
   },
   "source": [
    "The warning is telling us we are throwing away some weights (the `vocab_transform` and `vocab_layer_norm` layers) and randomly initializing some other (the `pre_classifier` and `classifier` layers). This is absolutely normal in this case, because we are removing the head used to pretrain the model on a masked language modeling objective and replacing it with a new head for which we don't have pretrained weights, so the library warns us we should fine-tune this model before using it for inference, which is exactly what we are going to do."
   ]
  },
  {
   "cell_type": "markdown",
   "metadata": {
    "id": "_N8urzhyIrJY"
   },
   "source": [
    "To instantiate a `Trainer`, we will need to define three more things. The most important is the [`TrainingArguments`](https://huggingface.co/transformers/main_classes/trainer.html#transformers.TrainingArguments), which is a class that contains all the attributes to customize the training. It requires one folder name, which will be used to save the checkpoints of the model, and all other arguments are optional:"
   ]
  },
  {
   "cell_type": "code",
   "execution_count": 229,
   "metadata": {
    "id": "Bliy8zgjIrJY"
   },
   "outputs": [
    {
     "name": "stderr",
     "output_type": "stream",
     "text": [
      "PyTorch: setting up devices\n",
      "The default value for the training argument `--report_to` will change in v5 (from all installed integrations to none). In v5, you will need to use `--report_to all` to get the same behavior as now. You should start updating your code and make this info disappear :-).\n"
     ]
    }
   ],
   "source": [
    "model_name = model_checkpoint.split(\"/\")[-1]\n",
    "args = TrainingArguments(\n",
    "    f\"{model_name}-finetuned-coqa\",\n",
    "    evaluation_strategy = \"epoch\",\n",
    "    learning_rate=2e-5,\n",
    "    per_device_train_batch_size=batch_size,\n",
    "    per_device_eval_batch_size=batch_size,\n",
    "    num_train_epochs=3,\n",
    "    weight_decay=0.01,\n",
    "    push_to_hub=False\n",
    ")"
   ]
  },
  {
   "cell_type": "markdown",
   "metadata": {
    "id": "km3pGVdTIrJc"
   },
   "source": [
    "Here we set the evaluation to be done at the end of each epoch, tweak the learning rate, use the `batch_size` defined at the top of the notebook and customize the number of epochs for training, as well as the weight decay.\n",
    "\n",
    "The last argument to setup everything so we can push the model to the [Hub](https://huggingface.co/models) regularly during training. Remove it if you didn't follow the installation steps at the top of the notebook. If you want to save your model locally in a name that is different than the name of the repository it will be pushed, or if you want to push your model under an organization and not your name space, use the `hub_model_id` argument to set the repo name (it needs to be the full name, including your namespace: for instance `\"sgugger/bert-finetuned-squad\"` or `\"huggingface/bert-finetuned-squad\"`)."
   ]
  },
  {
   "cell_type": "markdown",
   "metadata": {
    "id": "8dhq08E9VOJc"
   },
   "source": [
    "Then we will need a data collator that will batch our processed examples together, here the default one will work:"
   ]
  },
  {
   "cell_type": "code",
   "execution_count": 230,
   "metadata": {
    "id": "bob4fkCSVOJd"
   },
   "outputs": [],
   "source": [
    "from transformers import default_data_collator\n",
    "\n",
    "data_collator = default_data_collator"
   ]
  },
  {
   "cell_type": "markdown",
   "metadata": {
    "id": "rXuFTAzDIrJe"
   },
   "source": [
    "We will evaluate our model and compute metrics in the next section (this is a very long operation, so we will only compute the evaluation loss during training).\n",
    "\n",
    "Then we just need to pass all of this along with our datasets to the `Trainer`:"
   ]
  },
  {
   "cell_type": "markdown",
   "metadata": {
    "id": "O1PsjWJ4VOJd"
   },
   "source": [
    "## Evaluation"
   ]
  },
  {
   "cell_type": "markdown",
   "metadata": {
    "id": "I_IaPrfZVOJe"
   },
   "source": [
    "Evaluating our model will require a bit more work, as we will need to map the predictions of our model back to parts of the context. The model itself predicts logits for the start and en position of our answers: if we take a batch from our validation datalaoder, here is the output our model gives us:"
   ]
  },
  {
   "cell_type": "code",
   "execution_count": null,
   "metadata": {
    "id": "PxowyeRCVOJe",
    "outputId": "af7b68ea-d7ad-478f-829a-3077e49e301a"
   },
   "outputs": [
    {
     "data": {
      "text/plain": [
       "odict_keys(['loss', 'start_logits', 'end_logits'])"
      ]
     },
     "execution_count": null,
     "metadata": {},
     "output_type": "execute_result"
    }
   ],
   "source": [
    "import torch\n",
    "\n",
    "for batch in trainer.get_eval_dataloader():\n",
    "    break\n",
    "batch = {k: v.to(trainer.args.device) for k, v in batch.items()}\n",
    "with torch.no_grad():\n",
    "    output = trainer.model(**batch)\n",
    "output.keys()"
   ]
  },
  {
   "cell_type": "markdown",
   "metadata": {
    "id": "UK1jmwnUVOJe"
   },
   "source": [
    "The output of the model is a dict-like object that contains the loss (since we provided labels), the start and end logits. We won't need the loss for our predictions, let's have a look a the logits:"
   ]
  },
  {
   "cell_type": "code",
   "execution_count": null,
   "metadata": {
    "id": "Ft5r7CpeVOJe",
    "outputId": "39226f55-200d-4bca-a6de-ae2c0dcdd836"
   },
   "outputs": [
    {
     "data": {
      "text/plain": [
       "(torch.Size([16, 384]), torch.Size([16, 384]))"
      ]
     },
     "execution_count": null,
     "metadata": {},
     "output_type": "execute_result"
    }
   ],
   "source": [
    "output.start_logits.shape, output.end_logits.shape"
   ]
  },
  {
   "cell_type": "markdown",
   "metadata": {
    "id": "n-hJqwLTVOJe"
   },
   "source": [
    "We have one logit for each feature and each token. The most obvious thing to predict an answer for each featyre is to take the index for the maximum of the start logits as a start position and the index of the maximum of the end logits as an end position."
   ]
  },
  {
   "cell_type": "code",
   "execution_count": null,
   "metadata": {
    "id": "5kwInPEvVOJe",
    "outputId": "c674c887-bd70-4dd9-fe8d-60abc889cfb2"
   },
   "outputs": [
    {
     "data": {
      "text/plain": [
       "(tensor([ 46,  57,  78,  43, 118,  15,  72,  35,  15,  34,  73,  41,  80,  91,\n",
       "         156,  35], device='cuda:0'),\n",
       " tensor([ 47,  58,  81,  55, 118, 110,  75,  37, 110,  36,  76,  53,  83,  94,\n",
       "         158,  35], device='cuda:0'))"
      ]
     },
     "execution_count": null,
     "metadata": {},
     "output_type": "execute_result"
    }
   ],
   "source": [
    "output.start_logits.argmax(dim=-1), output.end_logits.argmax(dim=-1)"
   ]
  },
  {
   "cell_type": "markdown",
   "metadata": {
    "id": "UXzXKoLcVOJe"
   },
   "source": [
    "This will work great in a lot of cases, but what if this prediction gives us something impossible: the start position could be greater than the end position, or point to a span of text in the question instead of the answer. In that case, we might want to look at the second best prediction to see if it gives a possible answer and select that instead.\n",
    "\n",
    "However, picking the second best answer is not as easy as picking the best one: is it the second best index in the start logits with the best index in the end logits? Or the best index in the start logits with the second best index in the end logits? And if that second best answer is not possible either, it gets even trickier for the third best answer.\n",
    "\n",
    "\n",
    "To classify our answers, we will use the score obtained by adding the start and end logits. We won't try to order all the possible answers and limit ourselves to with a hyper-parameter we call `n_best_size`. We'll pick the best indices in the start and end logits and gather all the answers this predicts. After checking if each one is valid, we will sort them by their score and keep the best one. Here is how we would do this on the first feature in the batch:"
   ]
  },
  {
   "cell_type": "code",
   "execution_count": null,
   "metadata": {
    "id": "JKWJz1z7VOJf"
   },
   "outputs": [],
   "source": [
    "n_best_size = 20"
   ]
  },
  {
   "cell_type": "code",
   "execution_count": null,
   "metadata": {
    "id": "A0O4SH4nVOJf"
   },
   "outputs": [],
   "source": [
    "import numpy as np\n",
    "\n",
    "start_logits = output.start_logits[0].cpu().numpy()\n",
    "end_logits = output.end_logits[0].cpu().numpy()\n",
    "# Gather the indices the best start/end logits:\n",
    "start_indexes = np.argsort(start_logits)[-1 : -n_best_size - 1 : -1].tolist()\n",
    "end_indexes = np.argsort(end_logits)[-1 : -n_best_size - 1 : -1].tolist()\n",
    "valid_answers = []\n",
    "for start_index in start_indexes:\n",
    "    for end_index in end_indexes:\n",
    "        if start_index <= end_index: # We need to refine that test to check the answer is inside the context\n",
    "            valid_answers.append(\n",
    "                {\n",
    "                    \"score\": start_logits[start_index] + end_logits[end_index],\n",
    "                    \"text\": \"\" # We need to find a way to get back the original substring corresponding to the answer in the context\n",
    "                }\n",
    "            )"
   ]
  },
  {
   "cell_type": "markdown",
   "metadata": {
    "id": "cYd_kh--VOJf"
   },
   "source": [
    "And then we can sort the `valid_answers` according to their `score` and only keep the best one. The only point left is how to check a given span is inside the context (and not the question) and how to get back the text inside. To do this, we need to add two things to our validation features:\n",
    "- the ID of the example that generated the feature (since each example can generate several features, as seen before);\n",
    "- the offset mapping that will give us a map from token indices to character positions in the context.\n",
    "\n",
    "That's why we will re-process the validation set with the following function, slightly different from `prepare_train_features`:"
   ]
  },
  {
   "cell_type": "code",
   "execution_count": null,
   "metadata": {
    "id": "dHsmJvJqVOJf"
   },
   "outputs": [],
   "source": [
    "def prepare_validation_features(examples):\n",
    "    # Some of the questions have lots of whitespace on the left, which is not useful and will make the\n",
    "    # truncation of the context fail (the tokenized question will take a lots of space). So we remove that\n",
    "    # left whitespace\n",
    "    examples[\"question\"] = [q.lstrip() for q in examples[\"question\"]]\n",
    "\n",
    "    # Tokenize our examples with truncation and maybe padding, but keep the overflows using a stride. This results\n",
    "    # in one example possible giving several features when a context is long, each of those features having a\n",
    "    # context that overlaps a bit the context of the previous feature.\n",
    "    tokenized_examples = tokenizer(\n",
    "        examples[\"question\" if pad_on_right else \"context\"],\n",
    "        examples[\"context\" if pad_on_right else \"question\"],\n",
    "        truncation=\"only_second\" if pad_on_right else \"only_first\",\n",
    "        max_length=max_length,\n",
    "        stride=doc_stride,\n",
    "        return_overflowing_tokens=True,\n",
    "        return_offsets_mapping=True,\n",
    "        padding=\"max_length\",\n",
    "    )\n",
    "\n",
    "    # Since one example might give us several features if it has a long context, we need a map from a feature to\n",
    "    # its corresponding example. This key gives us just that.\n",
    "    sample_mapping = tokenized_examples.pop(\"overflow_to_sample_mapping\")\n",
    "\n",
    "    # We keep the example_id that gave us this feature and we will store the offset mappings.\n",
    "    tokenized_examples[\"example_id\"] = []\n",
    "\n",
    "    for i in range(len(tokenized_examples[\"input_ids\"])):\n",
    "        # Grab the sequence corresponding to that example (to know what is the context and what is the question).\n",
    "        sequence_ids = tokenized_examples.sequence_ids(i)\n",
    "        context_index = 1 if pad_on_right else 0\n",
    "\n",
    "        # One example can give several spans, this is the index of the example containing this span of text.\n",
    "        sample_index = sample_mapping[i]\n",
    "        tokenized_examples[\"example_id\"].append(examples[\"id\"][sample_index])\n",
    "\n",
    "        # Set to None the offset_mapping that are not part of the context so it's easy to determine if a token\n",
    "        # position is part of the context or not.\n",
    "        tokenized_examples[\"offset_mapping\"][i] = [\n",
    "            (o if sequence_ids[k] == context_index else None)\n",
    "            for k, o in enumerate(tokenized_examples[\"offset_mapping\"][i])\n",
    "        ]\n",
    "\n",
    "    return tokenized_examples"
   ]
  },
  {
   "cell_type": "markdown",
   "metadata": {
    "id": "iJOaanqJVOJf"
   },
   "source": [
    "And like before, we can apply that function to our validation set easily:"
   ]
  },
  {
   "cell_type": "code",
   "execution_count": null,
   "metadata": {
    "id": "vtEbH7xKVOJf",
    "outputId": "fbd92f23-5628-4e0e-c72a-cee51a5da9ae"
   },
   "outputs": [
    {
     "data": {
      "application/vnd.jupyter.widget-view+json": {
       "model_id": "32ba04d6240149f49eb48c8d8b7f9aae",
       "version_major": 2,
       "version_minor": 0
      },
      "text/plain": [
       "HBox(children=(FloatProgress(value=0.0, max=11.0), HTML(value='')))"
      ]
     },
     "metadata": {},
     "output_type": "display_data"
    },
    {
     "name": "stdout",
     "output_type": "stream",
     "text": [
      "\n"
     ]
    }
   ],
   "source": [
    "validation_features = datasets[\"validation\"].map(\n",
    "    prepare_validation_features,\n",
    "    batched=True,\n",
    "    remove_columns=datasets[\"validation\"].column_names\n",
    ")"
   ]
  },
  {
   "cell_type": "markdown",
   "metadata": {
    "id": "JpIuinFpVOJf"
   },
   "source": [
    "Now we can grab the predictions for all features by using the `Trainer.predict` method:"
   ]
  },
  {
   "cell_type": "code",
   "execution_count": null,
   "metadata": {
    "id": "HRcgrG1wVOJg",
    "outputId": "984f45fb-d0f3-4a23-bb98-bdf4dba92f78"
   },
   "outputs": [
    {
     "data": {
      "text/html": [
       "\n",
       "    <div>\n",
       "        <style>\n",
       "            /* Turns off some styling */\n",
       "            progress {\n",
       "                /* gets rid of default border in Firefox and Opera. */\n",
       "                border: none;\n",
       "                /* Needs to be in here for Safari polyfill so background images work as expected. */\n",
       "                background-size: auto;\n",
       "            }\n",
       "        </style>\n",
       "      \n",
       "      <progress value='674' max='674' style='width:300px; height:20px; vertical-align: middle;'></progress>\n",
       "      [674/674 00:39]\n",
       "    </div>\n",
       "    "
      ],
      "text/plain": [
       "<IPython.core.display.HTML object>"
      ]
     },
     "metadata": {},
     "output_type": "display_data"
    }
   ],
   "source": [
    "raw_predictions = trainer.predict(validation_features)"
   ]
  },
  {
   "cell_type": "markdown",
   "metadata": {
    "id": "rUfqcGVMVOJg"
   },
   "source": [
    "The `Trainer` *hides* the columns that are not used by the model (here `example_id` and `offset_mapping` which we will need for our post-processing), so we set them back:"
   ]
  },
  {
   "cell_type": "code",
   "execution_count": null,
   "metadata": {
    "id": "ajfppPP6VOJg"
   },
   "outputs": [],
   "source": [
    "validation_features.set_format(type=validation_features.format[\"type\"], columns=list(validation_features.features.keys()))"
   ]
  },
  {
   "cell_type": "markdown",
   "metadata": {
    "id": "OV8DCLnGVOJg"
   },
   "source": [
    "We can now refine the test we had before: since we set `None` in the offset mappings when it corresponds to a part of the question, it's easy to check if an answer is fully inside the context. We also eliminate very long answers from our considerations (with an hyper-parameter we can tune)"
   ]
  },
  {
   "cell_type": "code",
   "execution_count": null,
   "metadata": {
    "id": "wsr7IA3MVOJg"
   },
   "outputs": [],
   "source": [
    "max_answer_length = 30"
   ]
  },
  {
   "cell_type": "code",
   "execution_count": null,
   "metadata": {
    "id": "RVhvuX_qVOJg",
    "outputId": "f8ad56a9-5efc-4677-fe8c-81b7e85b5d92"
   },
   "outputs": [
    {
     "data": {
      "text/plain": [
       "[{'score': 16.706663, 'text': 'Denver Broncos'},\n",
       " {'score': 14.635585,\n",
       "  'text': 'Denver Broncos defeated the National Football Conference (NFC) champion Carolina Panthers'},\n",
       " {'score': 13.234194, 'text': 'Carolina Panthers'},\n",
       " {'score': 12.468662, 'text': 'Broncos'},\n",
       " {'score': 11.709289, 'text': 'Denver'},\n",
       " {'score': 10.397583,\n",
       "  'text': 'Broncos defeated the National Football Conference (NFC) champion Carolina Panthers'},\n",
       " {'score': 10.104669,\n",
       "  'text': 'American Football Conference (AFC) champion Denver Broncos'},\n",
       " {'score': 9.721636,\n",
       "  'text': 'The American Football Conference (AFC) champion Denver Broncos'},\n",
       " {'score': 9.007437,\n",
       "  'text': 'Denver Broncos defeated the National Football Conference (NFC) champion Carolina Panthers 24–10'},\n",
       " {'score': 8.834958,\n",
       "  'text': 'Denver Broncos defeated the National Football Conference (NFC) champion Carolina'},\n",
       " {'score': 8.38701,\n",
       "  'text': 'Denver Broncos defeated the National Football Conference (NFC)'},\n",
       " {'score': 8.143825,\n",
       "  'text': 'Denver Broncos defeated the National Football Conference (NFC) champion Carolina Panthers 24–10 to earn their third Super Bowl title.'},\n",
       " {'score': 8.03359,\n",
       "  'text': 'American Football Conference (AFC) champion Denver Broncos defeated the National Football Conference (NFC) champion Carolina Panthers'},\n",
       " {'score': 7.832466,\n",
       "  'text': 'Denver Broncos defeated the National Football Conference (NFC'},\n",
       " {'score': 7.650557,\n",
       "  'text': 'The American Football Conference (AFC) champion Denver Broncos defeated the National Football Conference (NFC) champion Carolina Panthers'},\n",
       " {'score': 7.6060467, 'text': 'Carolina Panthers 24–10'},\n",
       " {'score': 7.5795317,\n",
       "  'text': 'Denver Broncos defeated the National Football Conference'},\n",
       " {'score': 7.433568, 'text': 'Carolina'},\n",
       " {'score': 6.742434,\n",
       "  'text': 'Carolina Panthers 24–10 to earn their third Super Bowl title.'},\n",
       " {'score': 6.71136,\n",
       "  'text': 'Denver Broncos defeated the National Football Conference (NFC) champion Carolina Panthers 24'}]"
      ]
     },
     "execution_count": null,
     "metadata": {},
     "output_type": "execute_result"
    }
   ],
   "source": [
    "start_logits = output.start_logits[0].cpu().numpy()\n",
    "end_logits = output.end_logits[0].cpu().numpy()\n",
    "offset_mapping = validation_features[0][\"offset_mapping\"]\n",
    "# The first feature comes from the first example. For the more general case, we will need to be match the example_id to\n",
    "# an example index\n",
    "context = datasets[\"validation\"][0][\"context\"]\n",
    "\n",
    "# Gather the indices the best start/end logits:\n",
    "start_indexes = np.argsort(start_logits)[-1 : -n_best_size - 1 : -1].tolist()\n",
    "end_indexes = np.argsort(end_logits)[-1 : -n_best_size - 1 : -1].tolist()\n",
    "valid_answers = []\n",
    "for start_index in start_indexes:\n",
    "    for end_index in end_indexes:\n",
    "        # Don't consider out-of-scope answers, either because the indices are out of bounds or correspond\n",
    "        # to part of the input_ids that are not in the context.\n",
    "        if (\n",
    "            start_index >= len(offset_mapping)\n",
    "            or end_index >= len(offset_mapping)\n",
    "            or offset_mapping[start_index] is None\n",
    "            or offset_mapping[end_index] is None\n",
    "        ):\n",
    "            continue\n",
    "        # Don't consider answers with a length that is either < 0 or > max_answer_length.\n",
    "        if end_index < start_index or end_index - start_index + 1 > max_answer_length:\n",
    "            continue\n",
    "        if start_index <= end_index: # We need to refine that test to check the answer is inside the context\n",
    "            start_char = offset_mapping[start_index][0]\n",
    "            end_char = offset_mapping[end_index][1]\n",
    "            valid_answers.append(\n",
    "                {\n",
    "                    \"score\": start_logits[start_index] + end_logits[end_index],\n",
    "                    \"text\": context[start_char: end_char]\n",
    "                }\n",
    "            )\n",
    "\n",
    "valid_answers = sorted(valid_answers, key=lambda x: x[\"score\"], reverse=True)[:n_best_size]\n",
    "valid_answers"
   ]
  },
  {
   "cell_type": "markdown",
   "metadata": {
    "id": "UzcgcWNeVOJg"
   },
   "source": [
    "We can compare to the actual ground-truth answer:"
   ]
  },
  {
   "cell_type": "code",
   "execution_count": null,
   "metadata": {
    "id": "ojHTv57LVOJg",
    "outputId": "f32da623-4142-4a91-9c9c-4d21369ed579"
   },
   "outputs": [
    {
     "data": {
      "text/plain": [
       "{'answer_start': [177, 177, 177],\n",
       " 'text': ['Denver Broncos', 'Denver Broncos', 'Denver Broncos']}"
      ]
     },
     "execution_count": null,
     "metadata": {},
     "output_type": "execute_result"
    }
   ],
   "source": [
    "datasets[\"validation\"][0][\"answers\"]"
   ]
  },
  {
   "cell_type": "markdown",
   "metadata": {
    "id": "fSRjcCSsVOJh"
   },
   "source": [
    "Our model picked the right as the most likely answer!\n",
    "\n",
    "As we mentioned in the code above, this was easy on the first feature because we knew it comes from the first example. For the other features, we will need a map between examples and their corresponding features. Also, since one example can give several features, we will need to gather together all the answers in all the features generated by a given example, then pick the best one. The following code builds a map from example index to its corresponding features indices:"
   ]
  },
  {
   "cell_type": "code",
   "execution_count": null,
   "metadata": {
    "id": "9jT-WuB-VOJh"
   },
   "outputs": [],
   "source": [
    "import collections\n",
    "\n",
    "examples = datasets[\"validation\"]\n",
    "features = validation_features\n",
    "\n",
    "example_id_to_index = {k: i for i, k in enumerate(examples[\"id\"])}\n",
    "features_per_example = collections.defaultdict(list)\n",
    "for i, feature in enumerate(features):\n",
    "    features_per_example[example_id_to_index[feature[\"example_id\"]]].append(i)"
   ]
  },
  {
   "cell_type": "markdown",
   "metadata": {
    "id": "xJCIN17EVOJh"
   },
   "source": [
    "We're almost ready for our post-processing function. The last bit to deal with is the impossible answer (when `squad_v2 = True`). The code above only keeps answers that are inside the context, we need to also grab the score for the impossible answer (which has start and end indices corresponding to the index of the CLS token). When one example gives several features, we have to predict the impossible answer when all the features give a high score to the impossible answer (since one feature could predict the impossible answer just because the answer isn't in the part of the context it has access too), which is why the score of the impossible answer for one example is the *minimum* of the scores for the impossible answer in each feature generated by the example.\n",
    "\n",
    "We then predict the impossible answer when that score is greater than the score of the best non-impossible answer. All combined together, this gives us this post-processing function:"
   ]
  },
  {
   "cell_type": "code",
   "execution_count": null,
   "metadata": {
    "id": "8tUJdLEvVOJh"
   },
   "outputs": [],
   "source": [
    "from tqdm.auto import tqdm\n",
    "\n",
    "def postprocess_qa_predictions(examples, features, raw_predictions, n_best_size = 20, max_answer_length = 30):\n",
    "    all_start_logits, all_end_logits = raw_predictions\n",
    "    # Build a map example to its corresponding features.\n",
    "    example_id_to_index = {k: i for i, k in enumerate(examples[\"id\"])}\n",
    "    features_per_example = collections.defaultdict(list)\n",
    "    for i, feature in enumerate(features):\n",
    "        features_per_example[example_id_to_index[feature[\"example_id\"]]].append(i)\n",
    "\n",
    "    # The dictionaries we have to fill.\n",
    "    predictions = collections.OrderedDict()\n",
    "\n",
    "    # Logging.\n",
    "    print(f\"Post-processing {len(examples)} example predictions split into {len(features)} features.\")\n",
    "\n",
    "    # Let's loop over all the examples!\n",
    "    for example_index, example in enumerate(tqdm(examples)):\n",
    "        # Those are the indices of the features associated to the current example.\n",
    "        feature_indices = features_per_example[example_index]\n",
    "\n",
    "        min_null_score = None # Only used if squad_v2 is True.\n",
    "        valid_answers = []\n",
    "        \n",
    "        context = example[\"context\"]\n",
    "        # Looping through all the features associated to the current example.\n",
    "        for feature_index in feature_indices:\n",
    "            # We grab the predictions of the model for this feature.\n",
    "            start_logits = all_start_logits[feature_index]\n",
    "            end_logits = all_end_logits[feature_index]\n",
    "            # This is what will allow us to map some the positions in our logits to span of texts in the original\n",
    "            # context.\n",
    "            offset_mapping = features[feature_index][\"offset_mapping\"]\n",
    "\n",
    "            # Update minimum null prediction.\n",
    "            cls_index = features[feature_index][\"input_ids\"].index(tokenizer.cls_token_id)\n",
    "            feature_null_score = start_logits[cls_index] + end_logits[cls_index]\n",
    "            if min_null_score is None or min_null_score < feature_null_score:\n",
    "                min_null_score = feature_null_score\n",
    "\n",
    "            # Go through all possibilities for the `n_best_size` greater start and end logits.\n",
    "            start_indexes = np.argsort(start_logits)[-1 : -n_best_size - 1 : -1].tolist()\n",
    "            end_indexes = np.argsort(end_logits)[-1 : -n_best_size - 1 : -1].tolist()\n",
    "            for start_index in start_indexes:\n",
    "                for end_index in end_indexes:\n",
    "                    # Don't consider out-of-scope answers, either because the indices are out of bounds or correspond\n",
    "                    # to part of the input_ids that are not in the context.\n",
    "                    if (\n",
    "                        start_index >= len(offset_mapping)\n",
    "                        or end_index >= len(offset_mapping)\n",
    "                        or offset_mapping[start_index] is None\n",
    "                        or offset_mapping[end_index] is None\n",
    "                    ):\n",
    "                        continue\n",
    "                    # Don't consider answers with a length that is either < 0 or > max_answer_length.\n",
    "                    if end_index < start_index or end_index - start_index + 1 > max_answer_length:\n",
    "                        continue\n",
    "\n",
    "                    start_char = offset_mapping[start_index][0]\n",
    "                    end_char = offset_mapping[end_index][1]\n",
    "                    valid_answers.append(\n",
    "                        {\n",
    "                            \"score\": start_logits[start_index] + end_logits[end_index],\n",
    "                            \"text\": context[start_char: end_char]\n",
    "                        }\n",
    "                    )\n",
    "        \n",
    "        if len(valid_answers) > 0:\n",
    "            best_answer = sorted(valid_answers, key=lambda x: x[\"score\"], reverse=True)[0]\n",
    "        else:\n",
    "            # In the very rare edge case we have not a single non-null prediction, we create a fake prediction to avoid\n",
    "            # failure.\n",
    "            best_answer = {\"text\": \"\", \"score\": 0.0}\n",
    "        \n",
    "        # Let's pick our final answer: the best one or the null answer (only for squad_v2)\n",
    "        if not squad_v2:\n",
    "            predictions[example[\"id\"]] = best_answer[\"text\"]\n",
    "        else:\n",
    "            answer = best_answer[\"text\"] if best_answer[\"score\"] > min_null_score else \"\"\n",
    "            predictions[example[\"id\"]] = answer\n",
    "\n",
    "    return predictions"
   ]
  },
  {
   "cell_type": "markdown",
   "metadata": {
    "id": "nCN_xASIVOJh"
   },
   "source": [
    "And we can apply our post-processing function to our raw predictions:"
   ]
  },
  {
   "cell_type": "code",
   "execution_count": null,
   "metadata": {
    "id": "_Q-da-aAVOJh",
    "outputId": "fb3f3b47-7d78-4b03-cf2b-ff14b86e0d4e"
   },
   "outputs": [
    {
     "name": "stdout",
     "output_type": "stream",
     "text": [
      "Post-processing 10570 example predictions split into 10784 features.\n"
     ]
    },
    {
     "data": {
      "application/vnd.jupyter.widget-view+json": {
       "model_id": "347ebed36d3541388e4e821372e91aa4",
       "version_major": 2,
       "version_minor": 0
      },
      "text/plain": [
       "HBox(children=(FloatProgress(value=0.0, max=10570.0), HTML(value='')))"
      ]
     },
     "metadata": {},
     "output_type": "display_data"
    },
    {
     "name": "stdout",
     "output_type": "stream",
     "text": [
      "\n"
     ]
    }
   ],
   "source": [
    "final_predictions = postprocess_qa_predictions(datasets[\"validation\"], validation_features, raw_predictions.predictions)"
   ]
  },
  {
   "cell_type": "markdown",
   "metadata": {
    "id": "Kj0KDSwIVOJh"
   },
   "source": [
    "Then we can load the metric from the datasets library."
   ]
  },
  {
   "cell_type": "code",
   "execution_count": null,
   "metadata": {
    "id": "iS2VAzYKVOJi"
   },
   "outputs": [],
   "source": [
    "metric = load_metric(\"squad_v2\" if squad_v2 else \"squad\")"
   ]
  },
  {
   "cell_type": "markdown",
   "metadata": {
    "id": "7Y7rva8QVOJi"
   },
   "source": [
    "Then we can call compute on it. We just need to format predictions and labels a bit as it expects a list of dictionaries and not one big dictionary. In the case of squad_v2, we also have to set a `no_answer_probability` argument (which we set to 0.0 here as we have already set the answer to empty if we picked it)."
   ]
  },
  {
   "cell_type": "code",
   "execution_count": null,
   "metadata": {
    "id": "U6_kSDxkVOJi",
    "outputId": "2bcbd9e3-9a16-42f5-d2da-fe115521f51e"
   },
   "outputs": [
    {
     "data": {
      "text/plain": [
       "{'exact_match': 76.74550614947965, 'f1': 85.13412652023338}"
      ]
     },
     "execution_count": null,
     "metadata": {},
     "output_type": "execute_result"
    }
   ],
   "source": [
    "if squad_v2:\n",
    "    formatted_predictions = [{\"id\": k, \"prediction_text\": v, \"no_answer_probability\": 0.0} for k, v in final_predictions.items()]\n",
    "else:\n",
    "    formatted_predictions = [{\"id\": k, \"prediction_text\": v} for k, v in final_predictions.items()]\n",
    "references = [{\"id\": ex[\"id\"], \"answers\": ex[\"answers\"]} for ex in datasets[\"validation\"]]\n",
    "metric.compute(predictions=formatted_predictions, references=references)"
   ]
  },
  {
   "cell_type": "markdown",
   "metadata": {
    "id": "iAgOi73nVOJi"
   },
   "source": [
    "You can now upload the result of the training to the Hub, just execute this instruction:"
   ]
  },
  {
   "cell_type": "code",
   "execution_count": null,
   "metadata": {
    "id": "fBGcUEPtVOJi"
   },
   "outputs": [],
   "source": [
    "trainer.push_to_hub()"
   ]
  },
  {
   "cell_type": "markdown",
   "metadata": {
    "id": "mIt8nxHXVOJi"
   },
   "source": [
    "You can now share this model with all your friends, family, favorite pets: they can all load it with the identifier `\"your-username/the-name-you-picked\"` so for instance:\n",
    "\n",
    "```python\n",
    "from transformers import AutoModelForQuestionAnswering\n",
    "\n",
    "model = AutoModelForQuestionAnswering.from_pretrained(\"sgugger/my-awesome-model\")\n",
    "```"
   ]
  },
  {
   "cell_type": "code",
   "execution_count": null,
   "metadata": {
    "id": "GPTJ94W9VOJi"
   },
   "outputs": [],
   "source": []
  }
 ],
 "metadata": {
  "colab": {
   "name": "Question Answering on SQUAD",
   "provenance": []
  },
  "kernelspec": {
   "display_name": "Python 3 (ipykernel)",
   "language": "python",
   "name": "python3"
  },
  "language_info": {
   "codemirror_mode": {
    "name": "ipython",
    "version": 3
   },
   "file_extension": ".py",
   "mimetype": "text/x-python",
   "name": "python",
   "nbconvert_exporter": "python",
   "pygments_lexer": "ipython3",
   "version": "3.10.6"
  }
 },
 "nbformat": 4,
 "nbformat_minor": 1
}
